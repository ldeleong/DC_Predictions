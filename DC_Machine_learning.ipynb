{
  "nbformat": 4,
  "nbformat_minor": 0,
  "metadata": {
    "colab": {
      "provenance": [],
      "include_colab_link": true
    },
    "kernelspec": {
      "name": "python3",
      "display_name": "Python 3"
    },
    "language_info": {
      "name": "python"
    }
  },
  "cells": [
    {
      "cell_type": "markdown",
      "metadata": {
        "id": "view-in-github",
        "colab_type": "text"
      },
      "source": [
        "<a href=\"https://colab.research.google.com/github/ldeleong/DC_Predictions/blob/main/DC_Machine_learning.ipynb\" target=\"_parent\"><img src=\"https://colab.research.google.com/assets/colab-badge.svg\" alt=\"Open In Colab\"/></a>"
      ]
    },
    {
      "cell_type": "code",
      "source": [
        "import pandas as pd\n",
        "salary_url = \"https://raw.github.com/ldeleong/DC_Predictions/main/dc%20income%20.csv\"\n",
        "HousingCost_URL = \"https://raw.githubusercontent.com/ldeleong/DC_Predictions/main/dc_Rent_cpi.csv\"\n",
        "food_url = \"https://raw.githubusercontent.com/ldeleong/DC_Predictions/main/DC_Food.csv\"\n",
        "trans_URL = \"https://raw.github.com/ldeleong/DC_Predictions/main/dc_Transportation_cpi.csv\"\n",
        "utilities_URL = \"https://raw.github.com/ldeleong/DC_Predictions/main/DC_Utilities_CPI.csv\"\n",
        "edu_com_URL = \"https://raw.github.com/ldeleong/DC_Predictions/main/EDU%26COM_CPI.csv\"\n",
        "furnish_URL = \"https://raw.github.com/ldeleong/DC_Predictions/main/Furnish_CPI.csv\"\n",
        "REc_URL = \"https://raw.github.com/ldeleong/DC_Predictions/main/REC_CPI.csv\"\n",
        "DC_URL = \"https://raw.github.com/ldeleong/DC_Predictions/main/DC.csv\"\n",
        "\n",
        "df_income = pd.read_csv(furnish_URL)\n",
        "df_rent = pd.read_csv(HousingCost_URL)\n",
        "df_Food = pd.read_csv(food_url)\n",
        "df_trans = pd.read_csv(trans_URL)\n",
        "df_utilities = pd.read_csv(utilities_URL)\n",
        "df_EduCOM = pd.read_csv(edu_com_URL)\n",
        "df_furnish = pd.read_csv(furnish_URL)\n",
        "df_rec = pd.read_csv(REc_URL)\n",
        "DC = pd.read_csv(DC_URL)\n",
        "DC"
      ],
      "metadata": {
        "colab": {
          "base_uri": "https://localhost:8080/",
          "height": 840
        },
        "id": "Ezf47hE1imdg",
        "outputId": "142b7514-b04d-423d-a5f2-eec33da0fb79"
      },
      "execution_count": 129,
      "outputs": [
        {
          "output_type": "execute_result",
          "data": {
            "text/plain": [
              "    Unnamed: 0  Year  income Total nominal food sales per capita  \\\n",
              "0            0  1998   56730                            5,306.94   \n",
              "1            1  1999   64280                            5,208.00   \n",
              "2            2  2000   66240                            5,018.76   \n",
              "3            3  2001   64690                            4,703.44   \n",
              "4            4  2002   60640                            4,594.10   \n",
              "5            5  2003   68490                            4,436.91   \n",
              "6            6  2004   64450                            5,065.42   \n",
              "7            7  2005   64860                            5,546.50   \n",
              "8            8  2006   67910                            5,867.33   \n",
              "9            9  2007   69360                            6,292.66   \n",
              "10          10  2008   73240                            6,353.43   \n",
              "11          11  2009   70300                            5,712.22   \n",
              "12          12  2010   74290                            5,221.77   \n",
              "13          13  2011   69930                            5,342.97   \n",
              "14          14  2012   81010                            5,244.18   \n",
              "15          15  2013   73680                            5,057.76   \n",
              "16          16  2014   82590                            5,244.55   \n",
              "17          17  2015   84820                            5,256.75   \n",
              "18          18  2016   85170                            5,343.06   \n",
              "19          19  2017   95840                            5,549.05   \n",
              "20          20  2018   99110                            5,842.80   \n",
              "21          21  2019  106100                            5,993.48   \n",
              "22          22  2020   99440                            5,296.99   \n",
              "\n",
              "   Total constant dollar food sales per capita  AVG_EduCom_CPI  \\\n",
              "0                                     3,968.99      101.666667   \n",
              "1                                     3,805.45      103.433333   \n",
              "2                                     3,586.18      104.783333   \n",
              "3                                     3,261.00      108.650000   \n",
              "4                                     3,114.69      112.233333   \n",
              "5                                     2,948.39      113.683333   \n",
              "6                                     3,262.57      114.316667   \n",
              "7                                     3,471.75      118.766667   \n",
              "8                                     3,573.63      123.933333   \n",
              "9                                     3,692.75      127.661833   \n",
              "10                                    3,553.20      131.764667   \n",
              "11                                    3,110.23      135.140167   \n",
              "12                                    2,815.01      139.607667   \n",
              "13                                    2,796.55      142.073167   \n",
              "14                                    2,672.40      145.028667   \n",
              "15                                    2,531.25      146.904833   \n",
              "16                                    2,562.48      150.066667   \n",
              "17                                    2,507.39      154.683667   \n",
              "18                                    2,506.56      156.782167   \n",
              "19                                    2,555.82      154.189833   \n",
              "20                                    2,632.32      153.782833   \n",
              "21                                    2,632.58      150.580000   \n",
              "22                                    2,265.35      154.233167   \n",
              "\n",
              "    AVG_furnish_CPI  AVG_rec_CPI  AVG_Rent_CPI  AVG_trans_CPI  \\\n",
              "0        124.016667   100.600000    174.575000     143.366667   \n",
              "1        124.000000   101.983333    179.975000     145.816667   \n",
              "2        125.433333   102.716667    187.175000     157.216667   \n",
              "3        128.450000   102.950000    200.566667     158.866667   \n",
              "4        131.866667   105.183333    213.525000     155.766667   \n",
              "5        134.466667   109.733333    223.925000     161.333333   \n",
              "6        134.750000   108.966667    232.008333     166.283333   \n",
              "7        129.966667   109.300000    242.433333     178.416667   \n",
              "8        123.683333   112.433333    253.316667     186.333333   \n",
              "9        122.286000   114.023667    264.238250     188.606167   \n",
              "10       121.068500   114.938833    276.350667     202.705333   \n",
              "11       121.593000   113.945000    287.072750     181.524500   \n",
              "12       117.396500   116.106167    293.471000     197.695167   \n",
              "13       111.100167   114.662167    302.248500     216.205500   \n",
              "14       110.404000   115.112833    314.175500     220.675167   \n",
              "15       108.786000   116.131667    322.936000     224.601833   \n",
              "16       105.559333   117.616500    328.544500     226.445833   \n",
              "17       104.332000   118.771333    336.890250     208.774000   \n",
              "18       101.626667   117.904500    341.821333     203.658667   \n",
              "19       101.474000   111.991167    349.923250     209.877167   \n",
              "20       104.279167   116.575500    359.168583     217.053667   \n",
              "21       109.878000   117.973167    366.418417     215.906500   \n",
              "22       110.673833   113.920333    376.856833     209.285167   \n",
              "\n",
              "    AVG_utilities_CPI  \n",
              "0          132.533333  \n",
              "1          136.050000  \n",
              "2          142.666667  \n",
              "3          142.716667  \n",
              "4          139.433333  \n",
              "5          148.116667  \n",
              "6          155.933333  \n",
              "7          172.533333  \n",
              "8          185.566667  \n",
              "9          196.744000  \n",
              "10         219.870333  \n",
              "11         216.975000  \n",
              "12         216.698833  \n",
              "13         215.137333  \n",
              "14         210.786833  \n",
              "15         214.366333  \n",
              "16         221.316000  \n",
              "17         218.147167  \n",
              "18         222.498667  \n",
              "19         233.925667  \n",
              "20         226.323167  \n",
              "21         237.671833  \n",
              "22         237.174667  "
            ],
            "text/html": [
              "\n",
              "  <div id=\"df-96868295-1fcb-4641-9368-6a13527e96fe\" class=\"colab-df-container\">\n",
              "    <div>\n",
              "<style scoped>\n",
              "    .dataframe tbody tr th:only-of-type {\n",
              "        vertical-align: middle;\n",
              "    }\n",
              "\n",
              "    .dataframe tbody tr th {\n",
              "        vertical-align: top;\n",
              "    }\n",
              "\n",
              "    .dataframe thead th {\n",
              "        text-align: right;\n",
              "    }\n",
              "</style>\n",
              "<table border=\"1\" class=\"dataframe\">\n",
              "  <thead>\n",
              "    <tr style=\"text-align: right;\">\n",
              "      <th></th>\n",
              "      <th>Unnamed: 0</th>\n",
              "      <th>Year</th>\n",
              "      <th>income</th>\n",
              "      <th>Total nominal food sales per capita</th>\n",
              "      <th>Total constant dollar food sales per capita</th>\n",
              "      <th>AVG_EduCom_CPI</th>\n",
              "      <th>AVG_furnish_CPI</th>\n",
              "      <th>AVG_rec_CPI</th>\n",
              "      <th>AVG_Rent_CPI</th>\n",
              "      <th>AVG_trans_CPI</th>\n",
              "      <th>AVG_utilities_CPI</th>\n",
              "    </tr>\n",
              "  </thead>\n",
              "  <tbody>\n",
              "    <tr>\n",
              "      <th>0</th>\n",
              "      <td>0</td>\n",
              "      <td>1998</td>\n",
              "      <td>56730</td>\n",
              "      <td>5,306.94</td>\n",
              "      <td>3,968.99</td>\n",
              "      <td>101.666667</td>\n",
              "      <td>124.016667</td>\n",
              "      <td>100.600000</td>\n",
              "      <td>174.575000</td>\n",
              "      <td>143.366667</td>\n",
              "      <td>132.533333</td>\n",
              "    </tr>\n",
              "    <tr>\n",
              "      <th>1</th>\n",
              "      <td>1</td>\n",
              "      <td>1999</td>\n",
              "      <td>64280</td>\n",
              "      <td>5,208.00</td>\n",
              "      <td>3,805.45</td>\n",
              "      <td>103.433333</td>\n",
              "      <td>124.000000</td>\n",
              "      <td>101.983333</td>\n",
              "      <td>179.975000</td>\n",
              "      <td>145.816667</td>\n",
              "      <td>136.050000</td>\n",
              "    </tr>\n",
              "    <tr>\n",
              "      <th>2</th>\n",
              "      <td>2</td>\n",
              "      <td>2000</td>\n",
              "      <td>66240</td>\n",
              "      <td>5,018.76</td>\n",
              "      <td>3,586.18</td>\n",
              "      <td>104.783333</td>\n",
              "      <td>125.433333</td>\n",
              "      <td>102.716667</td>\n",
              "      <td>187.175000</td>\n",
              "      <td>157.216667</td>\n",
              "      <td>142.666667</td>\n",
              "    </tr>\n",
              "    <tr>\n",
              "      <th>3</th>\n",
              "      <td>3</td>\n",
              "      <td>2001</td>\n",
              "      <td>64690</td>\n",
              "      <td>4,703.44</td>\n",
              "      <td>3,261.00</td>\n",
              "      <td>108.650000</td>\n",
              "      <td>128.450000</td>\n",
              "      <td>102.950000</td>\n",
              "      <td>200.566667</td>\n",
              "      <td>158.866667</td>\n",
              "      <td>142.716667</td>\n",
              "    </tr>\n",
              "    <tr>\n",
              "      <th>4</th>\n",
              "      <td>4</td>\n",
              "      <td>2002</td>\n",
              "      <td>60640</td>\n",
              "      <td>4,594.10</td>\n",
              "      <td>3,114.69</td>\n",
              "      <td>112.233333</td>\n",
              "      <td>131.866667</td>\n",
              "      <td>105.183333</td>\n",
              "      <td>213.525000</td>\n",
              "      <td>155.766667</td>\n",
              "      <td>139.433333</td>\n",
              "    </tr>\n",
              "    <tr>\n",
              "      <th>5</th>\n",
              "      <td>5</td>\n",
              "      <td>2003</td>\n",
              "      <td>68490</td>\n",
              "      <td>4,436.91</td>\n",
              "      <td>2,948.39</td>\n",
              "      <td>113.683333</td>\n",
              "      <td>134.466667</td>\n",
              "      <td>109.733333</td>\n",
              "      <td>223.925000</td>\n",
              "      <td>161.333333</td>\n",
              "      <td>148.116667</td>\n",
              "    </tr>\n",
              "    <tr>\n",
              "      <th>6</th>\n",
              "      <td>6</td>\n",
              "      <td>2004</td>\n",
              "      <td>64450</td>\n",
              "      <td>5,065.42</td>\n",
              "      <td>3,262.57</td>\n",
              "      <td>114.316667</td>\n",
              "      <td>134.750000</td>\n",
              "      <td>108.966667</td>\n",
              "      <td>232.008333</td>\n",
              "      <td>166.283333</td>\n",
              "      <td>155.933333</td>\n",
              "    </tr>\n",
              "    <tr>\n",
              "      <th>7</th>\n",
              "      <td>7</td>\n",
              "      <td>2005</td>\n",
              "      <td>64860</td>\n",
              "      <td>5,546.50</td>\n",
              "      <td>3,471.75</td>\n",
              "      <td>118.766667</td>\n",
              "      <td>129.966667</td>\n",
              "      <td>109.300000</td>\n",
              "      <td>242.433333</td>\n",
              "      <td>178.416667</td>\n",
              "      <td>172.533333</td>\n",
              "    </tr>\n",
              "    <tr>\n",
              "      <th>8</th>\n",
              "      <td>8</td>\n",
              "      <td>2006</td>\n",
              "      <td>67910</td>\n",
              "      <td>5,867.33</td>\n",
              "      <td>3,573.63</td>\n",
              "      <td>123.933333</td>\n",
              "      <td>123.683333</td>\n",
              "      <td>112.433333</td>\n",
              "      <td>253.316667</td>\n",
              "      <td>186.333333</td>\n",
              "      <td>185.566667</td>\n",
              "    </tr>\n",
              "    <tr>\n",
              "      <th>9</th>\n",
              "      <td>9</td>\n",
              "      <td>2007</td>\n",
              "      <td>69360</td>\n",
              "      <td>6,292.66</td>\n",
              "      <td>3,692.75</td>\n",
              "      <td>127.661833</td>\n",
              "      <td>122.286000</td>\n",
              "      <td>114.023667</td>\n",
              "      <td>264.238250</td>\n",
              "      <td>188.606167</td>\n",
              "      <td>196.744000</td>\n",
              "    </tr>\n",
              "    <tr>\n",
              "      <th>10</th>\n",
              "      <td>10</td>\n",
              "      <td>2008</td>\n",
              "      <td>73240</td>\n",
              "      <td>6,353.43</td>\n",
              "      <td>3,553.20</td>\n",
              "      <td>131.764667</td>\n",
              "      <td>121.068500</td>\n",
              "      <td>114.938833</td>\n",
              "      <td>276.350667</td>\n",
              "      <td>202.705333</td>\n",
              "      <td>219.870333</td>\n",
              "    </tr>\n",
              "    <tr>\n",
              "      <th>11</th>\n",
              "      <td>11</td>\n",
              "      <td>2009</td>\n",
              "      <td>70300</td>\n",
              "      <td>5,712.22</td>\n",
              "      <td>3,110.23</td>\n",
              "      <td>135.140167</td>\n",
              "      <td>121.593000</td>\n",
              "      <td>113.945000</td>\n",
              "      <td>287.072750</td>\n",
              "      <td>181.524500</td>\n",
              "      <td>216.975000</td>\n",
              "    </tr>\n",
              "    <tr>\n",
              "      <th>12</th>\n",
              "      <td>12</td>\n",
              "      <td>2010</td>\n",
              "      <td>74290</td>\n",
              "      <td>5,221.77</td>\n",
              "      <td>2,815.01</td>\n",
              "      <td>139.607667</td>\n",
              "      <td>117.396500</td>\n",
              "      <td>116.106167</td>\n",
              "      <td>293.471000</td>\n",
              "      <td>197.695167</td>\n",
              "      <td>216.698833</td>\n",
              "    </tr>\n",
              "    <tr>\n",
              "      <th>13</th>\n",
              "      <td>13</td>\n",
              "      <td>2011</td>\n",
              "      <td>69930</td>\n",
              "      <td>5,342.97</td>\n",
              "      <td>2,796.55</td>\n",
              "      <td>142.073167</td>\n",
              "      <td>111.100167</td>\n",
              "      <td>114.662167</td>\n",
              "      <td>302.248500</td>\n",
              "      <td>216.205500</td>\n",
              "      <td>215.137333</td>\n",
              "    </tr>\n",
              "    <tr>\n",
              "      <th>14</th>\n",
              "      <td>14</td>\n",
              "      <td>2012</td>\n",
              "      <td>81010</td>\n",
              "      <td>5,244.18</td>\n",
              "      <td>2,672.40</td>\n",
              "      <td>145.028667</td>\n",
              "      <td>110.404000</td>\n",
              "      <td>115.112833</td>\n",
              "      <td>314.175500</td>\n",
              "      <td>220.675167</td>\n",
              "      <td>210.786833</td>\n",
              "    </tr>\n",
              "    <tr>\n",
              "      <th>15</th>\n",
              "      <td>15</td>\n",
              "      <td>2013</td>\n",
              "      <td>73680</td>\n",
              "      <td>5,057.76</td>\n",
              "      <td>2,531.25</td>\n",
              "      <td>146.904833</td>\n",
              "      <td>108.786000</td>\n",
              "      <td>116.131667</td>\n",
              "      <td>322.936000</td>\n",
              "      <td>224.601833</td>\n",
              "      <td>214.366333</td>\n",
              "    </tr>\n",
              "    <tr>\n",
              "      <th>16</th>\n",
              "      <td>16</td>\n",
              "      <td>2014</td>\n",
              "      <td>82590</td>\n",
              "      <td>5,244.55</td>\n",
              "      <td>2,562.48</td>\n",
              "      <td>150.066667</td>\n",
              "      <td>105.559333</td>\n",
              "      <td>117.616500</td>\n",
              "      <td>328.544500</td>\n",
              "      <td>226.445833</td>\n",
              "      <td>221.316000</td>\n",
              "    </tr>\n",
              "    <tr>\n",
              "      <th>17</th>\n",
              "      <td>17</td>\n",
              "      <td>2015</td>\n",
              "      <td>84820</td>\n",
              "      <td>5,256.75</td>\n",
              "      <td>2,507.39</td>\n",
              "      <td>154.683667</td>\n",
              "      <td>104.332000</td>\n",
              "      <td>118.771333</td>\n",
              "      <td>336.890250</td>\n",
              "      <td>208.774000</td>\n",
              "      <td>218.147167</td>\n",
              "    </tr>\n",
              "    <tr>\n",
              "      <th>18</th>\n",
              "      <td>18</td>\n",
              "      <td>2016</td>\n",
              "      <td>85170</td>\n",
              "      <td>5,343.06</td>\n",
              "      <td>2,506.56</td>\n",
              "      <td>156.782167</td>\n",
              "      <td>101.626667</td>\n",
              "      <td>117.904500</td>\n",
              "      <td>341.821333</td>\n",
              "      <td>203.658667</td>\n",
              "      <td>222.498667</td>\n",
              "    </tr>\n",
              "    <tr>\n",
              "      <th>19</th>\n",
              "      <td>19</td>\n",
              "      <td>2017</td>\n",
              "      <td>95840</td>\n",
              "      <td>5,549.05</td>\n",
              "      <td>2,555.82</td>\n",
              "      <td>154.189833</td>\n",
              "      <td>101.474000</td>\n",
              "      <td>111.991167</td>\n",
              "      <td>349.923250</td>\n",
              "      <td>209.877167</td>\n",
              "      <td>233.925667</td>\n",
              "    </tr>\n",
              "    <tr>\n",
              "      <th>20</th>\n",
              "      <td>20</td>\n",
              "      <td>2018</td>\n",
              "      <td>99110</td>\n",
              "      <td>5,842.80</td>\n",
              "      <td>2,632.32</td>\n",
              "      <td>153.782833</td>\n",
              "      <td>104.279167</td>\n",
              "      <td>116.575500</td>\n",
              "      <td>359.168583</td>\n",
              "      <td>217.053667</td>\n",
              "      <td>226.323167</td>\n",
              "    </tr>\n",
              "    <tr>\n",
              "      <th>21</th>\n",
              "      <td>21</td>\n",
              "      <td>2019</td>\n",
              "      <td>106100</td>\n",
              "      <td>5,993.48</td>\n",
              "      <td>2,632.58</td>\n",
              "      <td>150.580000</td>\n",
              "      <td>109.878000</td>\n",
              "      <td>117.973167</td>\n",
              "      <td>366.418417</td>\n",
              "      <td>215.906500</td>\n",
              "      <td>237.671833</td>\n",
              "    </tr>\n",
              "    <tr>\n",
              "      <th>22</th>\n",
              "      <td>22</td>\n",
              "      <td>2020</td>\n",
              "      <td>99440</td>\n",
              "      <td>5,296.99</td>\n",
              "      <td>2,265.35</td>\n",
              "      <td>154.233167</td>\n",
              "      <td>110.673833</td>\n",
              "      <td>113.920333</td>\n",
              "      <td>376.856833</td>\n",
              "      <td>209.285167</td>\n",
              "      <td>237.174667</td>\n",
              "    </tr>\n",
              "  </tbody>\n",
              "</table>\n",
              "</div>\n",
              "    <div class=\"colab-df-buttons\">\n",
              "\n",
              "  <div class=\"colab-df-container\">\n",
              "    <button class=\"colab-df-convert\" onclick=\"convertToInteractive('df-96868295-1fcb-4641-9368-6a13527e96fe')\"\n",
              "            title=\"Convert this dataframe to an interactive table.\"\n",
              "            style=\"display:none;\">\n",
              "\n",
              "  <svg xmlns=\"http://www.w3.org/2000/svg\" height=\"24px\" viewBox=\"0 -960 960 960\">\n",
              "    <path d=\"M120-120v-720h720v720H120Zm60-500h600v-160H180v160Zm220 220h160v-160H400v160Zm0 220h160v-160H400v160ZM180-400h160v-160H180v160Zm440 0h160v-160H620v160ZM180-180h160v-160H180v160Zm440 0h160v-160H620v160Z\"/>\n",
              "  </svg>\n",
              "    </button>\n",
              "\n",
              "  <style>\n",
              "    .colab-df-container {\n",
              "      display:flex;\n",
              "      gap: 12px;\n",
              "    }\n",
              "\n",
              "    .colab-df-convert {\n",
              "      background-color: #E8F0FE;\n",
              "      border: none;\n",
              "      border-radius: 50%;\n",
              "      cursor: pointer;\n",
              "      display: none;\n",
              "      fill: #1967D2;\n",
              "      height: 32px;\n",
              "      padding: 0 0 0 0;\n",
              "      width: 32px;\n",
              "    }\n",
              "\n",
              "    .colab-df-convert:hover {\n",
              "      background-color: #E2EBFA;\n",
              "      box-shadow: 0px 1px 2px rgba(60, 64, 67, 0.3), 0px 1px 3px 1px rgba(60, 64, 67, 0.15);\n",
              "      fill: #174EA6;\n",
              "    }\n",
              "\n",
              "    .colab-df-buttons div {\n",
              "      margin-bottom: 4px;\n",
              "    }\n",
              "\n",
              "    [theme=dark] .colab-df-convert {\n",
              "      background-color: #3B4455;\n",
              "      fill: #D2E3FC;\n",
              "    }\n",
              "\n",
              "    [theme=dark] .colab-df-convert:hover {\n",
              "      background-color: #434B5C;\n",
              "      box-shadow: 0px 1px 3px 1px rgba(0, 0, 0, 0.15);\n",
              "      filter: drop-shadow(0px 1px 2px rgba(0, 0, 0, 0.3));\n",
              "      fill: #FFFFFF;\n",
              "    }\n",
              "  </style>\n",
              "\n",
              "    <script>\n",
              "      const buttonEl =\n",
              "        document.querySelector('#df-96868295-1fcb-4641-9368-6a13527e96fe button.colab-df-convert');\n",
              "      buttonEl.style.display =\n",
              "        google.colab.kernel.accessAllowed ? 'block' : 'none';\n",
              "\n",
              "      async function convertToInteractive(key) {\n",
              "        const element = document.querySelector('#df-96868295-1fcb-4641-9368-6a13527e96fe');\n",
              "        const dataTable =\n",
              "          await google.colab.kernel.invokeFunction('convertToInteractive',\n",
              "                                                    [key], {});\n",
              "        if (!dataTable) return;\n",
              "\n",
              "        const docLinkHtml = 'Like what you see? Visit the ' +\n",
              "          '<a target=\"_blank\" href=https://colab.research.google.com/notebooks/data_table.ipynb>data table notebook</a>'\n",
              "          + ' to learn more about interactive tables.';\n",
              "        element.innerHTML = '';\n",
              "        dataTable['output_type'] = 'display_data';\n",
              "        await google.colab.output.renderOutput(dataTable, element);\n",
              "        const docLink = document.createElement('div');\n",
              "        docLink.innerHTML = docLinkHtml;\n",
              "        element.appendChild(docLink);\n",
              "      }\n",
              "    </script>\n",
              "  </div>\n",
              "\n",
              "\n",
              "<div id=\"df-2730f1c9-d054-4aa6-98f8-f12704947074\">\n",
              "  <button class=\"colab-df-quickchart\" onclick=\"quickchart('df-2730f1c9-d054-4aa6-98f8-f12704947074')\"\n",
              "            title=\"Suggest charts\"\n",
              "            style=\"display:none;\">\n",
              "\n",
              "<svg xmlns=\"http://www.w3.org/2000/svg\" height=\"24px\"viewBox=\"0 0 24 24\"\n",
              "     width=\"24px\">\n",
              "    <g>\n",
              "        <path d=\"M19 3H5c-1.1 0-2 .9-2 2v14c0 1.1.9 2 2 2h14c1.1 0 2-.9 2-2V5c0-1.1-.9-2-2-2zM9 17H7v-7h2v7zm4 0h-2V7h2v10zm4 0h-2v-4h2v4z\"/>\n",
              "    </g>\n",
              "</svg>\n",
              "  </button>\n",
              "\n",
              "<style>\n",
              "  .colab-df-quickchart {\n",
              "      --bg-color: #E8F0FE;\n",
              "      --fill-color: #1967D2;\n",
              "      --hover-bg-color: #E2EBFA;\n",
              "      --hover-fill-color: #174EA6;\n",
              "      --disabled-fill-color: #AAA;\n",
              "      --disabled-bg-color: #DDD;\n",
              "  }\n",
              "\n",
              "  [theme=dark] .colab-df-quickchart {\n",
              "      --bg-color: #3B4455;\n",
              "      --fill-color: #D2E3FC;\n",
              "      --hover-bg-color: #434B5C;\n",
              "      --hover-fill-color: #FFFFFF;\n",
              "      --disabled-bg-color: #3B4455;\n",
              "      --disabled-fill-color: #666;\n",
              "  }\n",
              "\n",
              "  .colab-df-quickchart {\n",
              "    background-color: var(--bg-color);\n",
              "    border: none;\n",
              "    border-radius: 50%;\n",
              "    cursor: pointer;\n",
              "    display: none;\n",
              "    fill: var(--fill-color);\n",
              "    height: 32px;\n",
              "    padding: 0;\n",
              "    width: 32px;\n",
              "  }\n",
              "\n",
              "  .colab-df-quickchart:hover {\n",
              "    background-color: var(--hover-bg-color);\n",
              "    box-shadow: 0 1px 2px rgba(60, 64, 67, 0.3), 0 1px 3px 1px rgba(60, 64, 67, 0.15);\n",
              "    fill: var(--button-hover-fill-color);\n",
              "  }\n",
              "\n",
              "  .colab-df-quickchart-complete:disabled,\n",
              "  .colab-df-quickchart-complete:disabled:hover {\n",
              "    background-color: var(--disabled-bg-color);\n",
              "    fill: var(--disabled-fill-color);\n",
              "    box-shadow: none;\n",
              "  }\n",
              "\n",
              "  .colab-df-spinner {\n",
              "    border: 2px solid var(--fill-color);\n",
              "    border-color: transparent;\n",
              "    border-bottom-color: var(--fill-color);\n",
              "    animation:\n",
              "      spin 1s steps(1) infinite;\n",
              "  }\n",
              "\n",
              "  @keyframes spin {\n",
              "    0% {\n",
              "      border-color: transparent;\n",
              "      border-bottom-color: var(--fill-color);\n",
              "      border-left-color: var(--fill-color);\n",
              "    }\n",
              "    20% {\n",
              "      border-color: transparent;\n",
              "      border-left-color: var(--fill-color);\n",
              "      border-top-color: var(--fill-color);\n",
              "    }\n",
              "    30% {\n",
              "      border-color: transparent;\n",
              "      border-left-color: var(--fill-color);\n",
              "      border-top-color: var(--fill-color);\n",
              "      border-right-color: var(--fill-color);\n",
              "    }\n",
              "    40% {\n",
              "      border-color: transparent;\n",
              "      border-right-color: var(--fill-color);\n",
              "      border-top-color: var(--fill-color);\n",
              "    }\n",
              "    60% {\n",
              "      border-color: transparent;\n",
              "      border-right-color: var(--fill-color);\n",
              "    }\n",
              "    80% {\n",
              "      border-color: transparent;\n",
              "      border-right-color: var(--fill-color);\n",
              "      border-bottom-color: var(--fill-color);\n",
              "    }\n",
              "    90% {\n",
              "      border-color: transparent;\n",
              "      border-bottom-color: var(--fill-color);\n",
              "    }\n",
              "  }\n",
              "</style>\n",
              "\n",
              "  <script>\n",
              "    async function quickchart(key) {\n",
              "      const quickchartButtonEl =\n",
              "        document.querySelector('#' + key + ' button');\n",
              "      quickchartButtonEl.disabled = true;  // To prevent multiple clicks.\n",
              "      quickchartButtonEl.classList.add('colab-df-spinner');\n",
              "      try {\n",
              "        const charts = await google.colab.kernel.invokeFunction(\n",
              "            'suggestCharts', [key], {});\n",
              "      } catch (error) {\n",
              "        console.error('Error during call to suggestCharts:', error);\n",
              "      }\n",
              "      quickchartButtonEl.classList.remove('colab-df-spinner');\n",
              "      quickchartButtonEl.classList.add('colab-df-quickchart-complete');\n",
              "    }\n",
              "    (() => {\n",
              "      let quickchartButtonEl =\n",
              "        document.querySelector('#df-2730f1c9-d054-4aa6-98f8-f12704947074 button');\n",
              "      quickchartButtonEl.style.display =\n",
              "        google.colab.kernel.accessAllowed ? 'block' : 'none';\n",
              "    })();\n",
              "  </script>\n",
              "</div>\n",
              "\n",
              "  <div id=\"id_8dbf268a-af08-4b8b-9244-5b6b5beea0e5\">\n",
              "    <style>\n",
              "      .colab-df-generate {\n",
              "        background-color: #E8F0FE;\n",
              "        border: none;\n",
              "        border-radius: 50%;\n",
              "        cursor: pointer;\n",
              "        display: none;\n",
              "        fill: #1967D2;\n",
              "        height: 32px;\n",
              "        padding: 0 0 0 0;\n",
              "        width: 32px;\n",
              "      }\n",
              "\n",
              "      .colab-df-generate:hover {\n",
              "        background-color: #E2EBFA;\n",
              "        box-shadow: 0px 1px 2px rgba(60, 64, 67, 0.3), 0px 1px 3px 1px rgba(60, 64, 67, 0.15);\n",
              "        fill: #174EA6;\n",
              "      }\n",
              "\n",
              "      [theme=dark] .colab-df-generate {\n",
              "        background-color: #3B4455;\n",
              "        fill: #D2E3FC;\n",
              "      }\n",
              "\n",
              "      [theme=dark] .colab-df-generate:hover {\n",
              "        background-color: #434B5C;\n",
              "        box-shadow: 0px 1px 3px 1px rgba(0, 0, 0, 0.15);\n",
              "        filter: drop-shadow(0px 1px 2px rgba(0, 0, 0, 0.3));\n",
              "        fill: #FFFFFF;\n",
              "      }\n",
              "    </style>\n",
              "    <button class=\"colab-df-generate\" onclick=\"generateWithVariable('DC')\"\n",
              "            title=\"Generate code using this dataframe.\"\n",
              "            style=\"display:none;\">\n",
              "\n",
              "  <svg xmlns=\"http://www.w3.org/2000/svg\" height=\"24px\"viewBox=\"0 0 24 24\"\n",
              "       width=\"24px\">\n",
              "    <path d=\"M7,19H8.4L18.45,9,17,7.55,7,17.6ZM5,21V16.75L18.45,3.32a2,2,0,0,1,2.83,0l1.4,1.43a1.91,1.91,0,0,1,.58,1.4,1.91,1.91,0,0,1-.58,1.4L9.25,21ZM18.45,9,17,7.55Zm-12,3A5.31,5.31,0,0,0,4.9,8.1,5.31,5.31,0,0,0,1,6.5,5.31,5.31,0,0,0,4.9,4.9,5.31,5.31,0,0,0,6.5,1,5.31,5.31,0,0,0,8.1,4.9,5.31,5.31,0,0,0,12,6.5,5.46,5.46,0,0,0,6.5,12Z\"/>\n",
              "  </svg>\n",
              "    </button>\n",
              "    <script>\n",
              "      (() => {\n",
              "      const buttonEl =\n",
              "        document.querySelector('#id_8dbf268a-af08-4b8b-9244-5b6b5beea0e5 button.colab-df-generate');\n",
              "      buttonEl.style.display =\n",
              "        google.colab.kernel.accessAllowed ? 'block' : 'none';\n",
              "\n",
              "      buttonEl.onclick = () => {\n",
              "        google.colab.notebook.generateWithVariable('DC');\n",
              "      }\n",
              "      })();\n",
              "    </script>\n",
              "  </div>\n",
              "\n",
              "    </div>\n",
              "  </div>\n"
            ],
            "application/vnd.google.colaboratory.intrinsic+json": {
              "type": "dataframe",
              "variable_name": "DC",
              "summary": "{\n  \"name\": \"DC\",\n  \"rows\": 23,\n  \"fields\": [\n    {\n      \"column\": \"Unnamed: 0\",\n      \"properties\": {\n        \"dtype\": \"number\",\n        \"std\": 6,\n        \"min\": 0,\n        \"max\": 22,\n        \"num_unique_values\": 23,\n        \"samples\": [\n          15,\n          9,\n          0\n        ],\n        \"semantic_type\": \"\",\n        \"description\": \"\"\n      }\n    },\n    {\n      \"column\": \"Year\",\n      \"properties\": {\n        \"dtype\": \"number\",\n        \"std\": 6,\n        \"min\": 1998,\n        \"max\": 2020,\n        \"num_unique_values\": 23,\n        \"samples\": [\n          2013,\n          2007,\n          1998\n        ],\n        \"semantic_type\": \"\",\n        \"description\": \"\"\n      }\n    },\n    {\n      \"column\": \"income\",\n      \"properties\": {\n        \"dtype\": \"number\",\n        \"std\": 13633,\n        \"min\": 56730,\n        \"max\": 106100,\n        \"num_unique_values\": 23,\n        \"samples\": [\n          73680,\n          69360,\n          56730\n        ],\n        \"semantic_type\": \"\",\n        \"description\": \"\"\n      }\n    },\n    {\n      \"column\": \"Total nominal food sales per capita\",\n      \"properties\": {\n        \"dtype\": \"string\",\n        \"num_unique_values\": 23,\n        \"samples\": [\n          \"5,057.76\",\n          \"6,292.66\",\n          \"5,306.94\"\n        ],\n        \"semantic_type\": \"\",\n        \"description\": \"\"\n      }\n    },\n    {\n      \"column\": \"Total constant dollar food sales per capita\",\n      \"properties\": {\n        \"dtype\": \"string\",\n        \"num_unique_values\": 23,\n        \"samples\": [\n          \"2,531.25\",\n          \"3,692.75\",\n          \"3,968.99\"\n        ],\n        \"semantic_type\": \"\",\n        \"description\": \"\"\n      }\n    },\n    {\n      \"column\": \"AVG_EduCom_CPI\",\n      \"properties\": {\n        \"dtype\": \"number\",\n        \"std\": 19.2353730559298,\n        \"min\": 101.66666666666669,\n        \"max\": 156.78216666666663,\n        \"num_unique_values\": 23,\n        \"samples\": [\n          146.90483333333336,\n          127.66183333333332,\n          101.66666666666669\n        ],\n        \"semantic_type\": \"\",\n        \"description\": \"\"\n      }\n    },\n    {\n      \"column\": \"AVG_furnish_CPI\",\n      \"properties\": {\n        \"dtype\": \"number\",\n        \"std\": 10.820907845494329,\n        \"min\": 101.474,\n        \"max\": 134.75,\n        \"num_unique_values\": 23,\n        \"samples\": [\n          108.786,\n          122.286,\n          124.01666666666668\n        ],\n        \"semantic_type\": \"\",\n        \"description\": \"\"\n      }\n    },\n    {\n      \"column\": \"AVG_rec_CPI\",\n      \"properties\": {\n        \"dtype\": \"number\",\n        \"std\": 5.665608913824266,\n        \"min\": 100.6,\n        \"max\": 118.77133333333336,\n        \"num_unique_values\": 23,\n        \"samples\": [\n          116.13166666666666,\n          114.02366666666666,\n          100.6\n        ],\n        \"semantic_type\": \"\",\n        \"description\": \"\"\n      }\n    },\n    {\n      \"column\": \"AVG_Rent_CPI\",\n      \"properties\": {\n        \"dtype\": \"number\",\n        \"std\": 63.764355797061825,\n        \"min\": 174.57500000000002,\n        \"max\": 376.85683333333344,\n        \"num_unique_values\": 23,\n        \"samples\": [\n          322.936,\n          264.23825,\n          174.57500000000002\n        ],\n        \"semantic_type\": \"\",\n        \"description\": \"\"\n      }\n    },\n    {\n      \"column\": \"AVG_trans_CPI\",\n      \"properties\": {\n        \"dtype\": \"number\",\n        \"std\": 26.99297993590275,\n        \"min\": 143.36666666666667,\n        \"max\": 226.44583333333333,\n        \"num_unique_values\": 23,\n        \"samples\": [\n          224.60183333333336,\n          188.60616666666667,\n          143.36666666666667\n        ],\n        \"semantic_type\": \"\",\n        \"description\": \"\"\n      }\n    },\n    {\n      \"column\": \"AVG_utilities_CPI\",\n      \"properties\": {\n        \"dtype\": \"number\",\n        \"std\": 37.45584073907439,\n        \"min\": 132.53333333333333,\n        \"max\": 237.67183333333327,\n        \"num_unique_values\": 23,\n        \"samples\": [\n          214.36633333333336,\n          196.744,\n          132.53333333333333\n        ],\n        \"semantic_type\": \"\",\n        \"description\": \"\"\n      }\n    }\n  ]\n}"
            }
          },
          "metadata": {},
          "execution_count": 129
        }
      ]
    },
    {
      "cell_type": "code",
      "source": [
        "del DC[\"Unnamed: 0\"]\n"
      ],
      "metadata": {
        "id": "d-JBUsiO2Jae"
      },
      "execution_count": 130,
      "outputs": []
    },
    {
      "cell_type": "code",
      "source": [
        "DC['Total nominal food sales per capita'] = DC['Total nominal food sales per capita'].str.replace(',', '')\n",
        "DC['Total nominal food sales per capita'] = DC['Total nominal food sales per capita'].astype(float)"
      ],
      "metadata": {
        "id": "zfwFGEMuon9Z"
      },
      "execution_count": 131,
      "outputs": []
    },
    {
      "cell_type": "code",
      "source": [
        "DC.dtypes"
      ],
      "metadata": {
        "id": "XA9Le99VmP_j",
        "outputId": "56c0fb61-987b-4af1-c6d9-485f93958048",
        "colab": {
          "base_uri": "https://localhost:8080/"
        }
      },
      "execution_count": 132,
      "outputs": [
        {
          "output_type": "execute_result",
          "data": {
            "text/plain": [
              "Year                                             int64\n",
              "income                                           int64\n",
              "Total nominal food sales per capita            float64\n",
              "Total constant dollar food sales per capita     object\n",
              "AVG_EduCom_CPI                                 float64\n",
              "AVG_furnish_CPI                                float64\n",
              "AVG_rec_CPI                                    float64\n",
              "AVG_Rent_CPI                                   float64\n",
              "AVG_trans_CPI                                  float64\n",
              "AVG_utilities_CPI                              float64\n",
              "dtype: object"
            ]
          },
          "metadata": {},
          "execution_count": 132
        }
      ]
    },
    {
      "cell_type": "markdown",
      "source": [
        "We carried out KNN machine to train our data set, we applied seven variables from the data set, all variables beside Total constant dollar food sales per capita, because it has a limited Scope: Total constant dollar food sales per capita only captures a specific aspect of economic activity related to food consumption. It doesn't account for other crucial factors that influence income levels, such as employment rates, wage growth, inflation.In this KNN (K-Nearest Neighbors) machine learning setup, we carried out the following steps:\n",
        "\n",
        "Data Preprocessing: Initially, we imported necessary libraries and loaded the dataset using pandas. Then, we defined the features and target variable for our model. We also applied data preprocessing techniques such as converting string representations of numbers into floats and scaling numerical features using StandardScaler.\n",
        "Model Construction: We constructed a machine learning pipeline using scikit-learn, which consists of a column transformer to preprocess numerical features and a KNeighborsRegressor as the predictive model. The KNN regressor is chosen for its simplicity and ability to capture non-linear relationships in the data.\n",
        "Cross-Validation: We performed k-fold cross-validation with 10 folds to evaluate the performance of the model. Specifically, we used negative mean squared error (neg_mean_squared_error) as the evaluation metric.\n",
        "Evaluation: Finally, we computed the root mean squared error (RMSE) from the cross-validation scores to assess the model's predictive performance.\n",
        "The reason for carrying out this KNN machine learning approach is to build a predictive model for estimating income based on various economic indicators provided in the dataset. By leveraging machine learning techniques like KNN regression, we aim to capture the underlying relationships between the features (e.g., food sales per capita, CPI indices) and the target variable (income), thereby enabling us to make more accurate predictions about income levels. This model can potentially be used for various applications such as economic forecasting, policy analysis, and resource allocation."
      ],
      "metadata": {
        "id": "2k2n_pXP-SD2"
      }
    },
    {
      "cell_type": "markdown",
      "source": [
        "We first calculated the Mean squared error."
      ],
      "metadata": {
        "id": "qbc46jW-C5Lg"
      }
    },
    {
      "cell_type": "code",
      "source": [
        "#KNN machine learning\n",
        "\n",
        "from sklearn.compose import make_column_transformer\n",
        "from sklearn.pipeline import make_pipeline\n",
        "from sklearn.preprocessing import StandardScaler\n",
        "from sklearn.neighbors import KNeighborsRegressor\n",
        "from sklearn.metrics import mean_squared_error\n",
        "from sklearn.preprocessing import OneHotEncoder\n",
        "from sklearn.model_selection import cross_val_score\n",
        "X_train = DC[[\"Total nominal food sales per capita\", \"AVG_EduCom_CPI\", \"AVG_furnish_CPI\", \"AVG_rec_CPI\", \"AVG_Rent_CPI\", \"AVG_trans_CPI\", \"AVG_utilities_CPI\"]]\n",
        "y_train = DC['income']\n",
        "\n",
        "pipeline = make_pipeline(\n",
        "    StandardScaler(),\n",
        "    KNeighborsRegressor(n_neighbors=10) #Model\n",
        ")\n",
        "#Training MSE\n",
        "pipeline.fit(X_train, y_train)\n",
        "y_train_predict= pipeline.predict(X_train)\n",
        "\n",
        "mse = mean_squared_error(y_train, y_train_predict)\n",
        "mse"
      ],
      "metadata": {
        "colab": {
          "base_uri": "https://localhost:8080/"
        },
        "id": "na299Lg0CAVg",
        "outputId": "2d1b2630-7ec1-4423-ec70-0b8e8142a999"
      },
      "execution_count": 133,
      "outputs": [
        {
          "output_type": "execute_result",
          "data": {
            "text/plain": [
              "56162502.86956522"
            ]
          },
          "metadata": {},
          "execution_count": 133
        }
      ]
    },
    {
      "cell_type": "code",
      "source": [
        "#Root mean squared error (or RMSE)\n",
        "import numpy as np\n",
        "rmse = np.sqrt(mse)\n",
        "rmse"
      ],
      "metadata": {
        "colab": {
          "base_uri": "https://localhost:8080/"
        },
        "id": "yrTQuHMPDHGp",
        "outputId": "6724e5bc-ab25-4d7f-d053-7e42494af382"
      },
      "execution_count": 134,
      "outputs": [
        {
          "output_type": "execute_result",
          "data": {
            "text/plain": [
              "7494.164587835339"
            ]
          },
          "metadata": {},
          "execution_count": 134
        }
      ]
    },
    {
      "cell_type": "markdown",
      "source": [
        "Model typically predicts with an error of $7494(yeesh)"
      ],
      "metadata": {
        "id": "IBZZ1DyjDPW_"
      }
    },
    {
      "cell_type": "code",
      "source": [
        "from sklearn.model_selection import cross_val_score\n",
        "\n",
        "scores = cross_val_score(\n",
        "    pipeline,\n",
        "    X=X_train,\n",
        "    y=y_train,\n",
        "    cv=10,\n",
        "    scoring = \"neg_mean_squared_error\"\n",
        ")\n",
        "\n",
        "print(scores)\n",
        "\n",
        "average_rmse = np.sqrt(-scores.mean())\n",
        "average_rmse"
      ],
      "metadata": {
        "colab": {
          "base_uri": "https://localhost:8080/"
        },
        "id": "3gJiR4zDDbL2",
        "outputId": "0e725589-dca6-4680-c9e9-8c1d3ba0c0fa"
      },
      "execution_count": 135,
      "outputs": [
        {
          "output_type": "stream",
          "name": "stdout",
          "text": [
            "[-4.60377957e+07 -1.96702417e+07 -1.91923403e+07 -1.37836841e+08\n",
            " -8.48079125e+07 -1.66740496e+08 -9.15201810e+07 -8.53810000e+04\n",
            " -2.19999789e+08 -4.48992090e+08]\n"
          ]
        },
        {
          "output_type": "execute_result",
          "data": {
            "text/plain": [
              "11112.529271802467"
            ]
          },
          "metadata": {},
          "execution_count": 135
        }
      ]
    },
    {
      "cell_type": "code",
      "source": [
        "col_transformer = make_column_transformer(\n",
        "    (StandardScaler(), [\"Total nominal food sales per capita\", \"AVG_EduCom_CPI\", \"AVG_furnish_CPI\", \"AVG_rec_CPI\", \"AVG_Rent_CPI\", \"AVG_trans_CPI\", \"AVG_utilities_CPI\"]),\n",
        "\n",
        ")\n",
        "pipeline_knn = make_pipeline(\n",
        "    col_transformer,\n",
        "    KNeighborsRegressor(n_neighbors=10)\n",
        ")\n",
        "\n",
        "pipeline_knn"
      ],
      "metadata": {
        "colab": {
          "base_uri": "https://localhost:8080/",
          "height": 192
        },
        "id": "lGxU_rRxFdW6",
        "outputId": "40ae26a0-96c2-436e-e1ea-0c8f62f30eb8"
      },
      "execution_count": 136,
      "outputs": [
        {
          "output_type": "execute_result",
          "data": {
            "text/plain": [
              "Pipeline(steps=[('columntransformer',\n",
              "                 ColumnTransformer(transformers=[('standardscaler',\n",
              "                                                  StandardScaler(),\n",
              "                                                  ['Total nominal food sales '\n",
              "                                                   'per capita',\n",
              "                                                   'AVG_EduCom_CPI',\n",
              "                                                   'AVG_furnish_CPI',\n",
              "                                                   'AVG_rec_CPI',\n",
              "                                                   'AVG_Rent_CPI',\n",
              "                                                   'AVG_trans_CPI',\n",
              "                                                   'AVG_utilities_CPI'])])),\n",
              "                ('kneighborsregressor', KNeighborsRegressor(n_neighbors=10))])"
            ],
            "text/html": [
              "<style>#sk-container-id-3 {color: black;background-color: white;}#sk-container-id-3 pre{padding: 0;}#sk-container-id-3 div.sk-toggleable {background-color: white;}#sk-container-id-3 label.sk-toggleable__label {cursor: pointer;display: block;width: 100%;margin-bottom: 0;padding: 0.3em;box-sizing: border-box;text-align: center;}#sk-container-id-3 label.sk-toggleable__label-arrow:before {content: \"▸\";float: left;margin-right: 0.25em;color: #696969;}#sk-container-id-3 label.sk-toggleable__label-arrow:hover:before {color: black;}#sk-container-id-3 div.sk-estimator:hover label.sk-toggleable__label-arrow:before {color: black;}#sk-container-id-3 div.sk-toggleable__content {max-height: 0;max-width: 0;overflow: hidden;text-align: left;background-color: #f0f8ff;}#sk-container-id-3 div.sk-toggleable__content pre {margin: 0.2em;color: black;border-radius: 0.25em;background-color: #f0f8ff;}#sk-container-id-3 input.sk-toggleable__control:checked~div.sk-toggleable__content {max-height: 200px;max-width: 100%;overflow: auto;}#sk-container-id-3 input.sk-toggleable__control:checked~label.sk-toggleable__label-arrow:before {content: \"▾\";}#sk-container-id-3 div.sk-estimator input.sk-toggleable__control:checked~label.sk-toggleable__label {background-color: #d4ebff;}#sk-container-id-3 div.sk-label input.sk-toggleable__control:checked~label.sk-toggleable__label {background-color: #d4ebff;}#sk-container-id-3 input.sk-hidden--visually {border: 0;clip: rect(1px 1px 1px 1px);clip: rect(1px, 1px, 1px, 1px);height: 1px;margin: -1px;overflow: hidden;padding: 0;position: absolute;width: 1px;}#sk-container-id-3 div.sk-estimator {font-family: monospace;background-color: #f0f8ff;border: 1px dotted black;border-radius: 0.25em;box-sizing: border-box;margin-bottom: 0.5em;}#sk-container-id-3 div.sk-estimator:hover {background-color: #d4ebff;}#sk-container-id-3 div.sk-parallel-item::after {content: \"\";width: 100%;border-bottom: 1px solid gray;flex-grow: 1;}#sk-container-id-3 div.sk-label:hover label.sk-toggleable__label {background-color: #d4ebff;}#sk-container-id-3 div.sk-serial::before {content: \"\";position: absolute;border-left: 1px solid gray;box-sizing: border-box;top: 0;bottom: 0;left: 50%;z-index: 0;}#sk-container-id-3 div.sk-serial {display: flex;flex-direction: column;align-items: center;background-color: white;padding-right: 0.2em;padding-left: 0.2em;position: relative;}#sk-container-id-3 div.sk-item {position: relative;z-index: 1;}#sk-container-id-3 div.sk-parallel {display: flex;align-items: stretch;justify-content: center;background-color: white;position: relative;}#sk-container-id-3 div.sk-item::before, #sk-container-id-3 div.sk-parallel-item::before {content: \"\";position: absolute;border-left: 1px solid gray;box-sizing: border-box;top: 0;bottom: 0;left: 50%;z-index: -1;}#sk-container-id-3 div.sk-parallel-item {display: flex;flex-direction: column;z-index: 1;position: relative;background-color: white;}#sk-container-id-3 div.sk-parallel-item:first-child::after {align-self: flex-end;width: 50%;}#sk-container-id-3 div.sk-parallel-item:last-child::after {align-self: flex-start;width: 50%;}#sk-container-id-3 div.sk-parallel-item:only-child::after {width: 0;}#sk-container-id-3 div.sk-dashed-wrapped {border: 1px dashed gray;margin: 0 0.4em 0.5em 0.4em;box-sizing: border-box;padding-bottom: 0.4em;background-color: white;}#sk-container-id-3 div.sk-label label {font-family: monospace;font-weight: bold;display: inline-block;line-height: 1.2em;}#sk-container-id-3 div.sk-label-container {text-align: center;}#sk-container-id-3 div.sk-container {/* jupyter's `normalize.less` sets `[hidden] { display: none; }` but bootstrap.min.css set `[hidden] { display: none !important; }` so we also need the `!important` here to be able to override the default hidden behavior on the sphinx rendered scikit-learn.org. See: https://github.com/scikit-learn/scikit-learn/issues/21755 */display: inline-block !important;position: relative;}#sk-container-id-3 div.sk-text-repr-fallback {display: none;}</style><div id=\"sk-container-id-3\" class=\"sk-top-container\"><div class=\"sk-text-repr-fallback\"><pre>Pipeline(steps=[(&#x27;columntransformer&#x27;,\n",
              "                 ColumnTransformer(transformers=[(&#x27;standardscaler&#x27;,\n",
              "                                                  StandardScaler(),\n",
              "                                                  [&#x27;Total nominal food sales &#x27;\n",
              "                                                   &#x27;per capita&#x27;,\n",
              "                                                   &#x27;AVG_EduCom_CPI&#x27;,\n",
              "                                                   &#x27;AVG_furnish_CPI&#x27;,\n",
              "                                                   &#x27;AVG_rec_CPI&#x27;,\n",
              "                                                   &#x27;AVG_Rent_CPI&#x27;,\n",
              "                                                   &#x27;AVG_trans_CPI&#x27;,\n",
              "                                                   &#x27;AVG_utilities_CPI&#x27;])])),\n",
              "                (&#x27;kneighborsregressor&#x27;, KNeighborsRegressor(n_neighbors=10))])</pre><b>In a Jupyter environment, please rerun this cell to show the HTML representation or trust the notebook. <br />On GitHub, the HTML representation is unable to render, please try loading this page with nbviewer.org.</b></div><div class=\"sk-container\" hidden><div class=\"sk-item sk-dashed-wrapped\"><div class=\"sk-label-container\"><div class=\"sk-label sk-toggleable\"><input class=\"sk-toggleable__control sk-hidden--visually\" id=\"sk-estimator-id-11\" type=\"checkbox\" ><label for=\"sk-estimator-id-11\" class=\"sk-toggleable__label sk-toggleable__label-arrow\">Pipeline</label><div class=\"sk-toggleable__content\"><pre>Pipeline(steps=[(&#x27;columntransformer&#x27;,\n",
              "                 ColumnTransformer(transformers=[(&#x27;standardscaler&#x27;,\n",
              "                                                  StandardScaler(),\n",
              "                                                  [&#x27;Total nominal food sales &#x27;\n",
              "                                                   &#x27;per capita&#x27;,\n",
              "                                                   &#x27;AVG_EduCom_CPI&#x27;,\n",
              "                                                   &#x27;AVG_furnish_CPI&#x27;,\n",
              "                                                   &#x27;AVG_rec_CPI&#x27;,\n",
              "                                                   &#x27;AVG_Rent_CPI&#x27;,\n",
              "                                                   &#x27;AVG_trans_CPI&#x27;,\n",
              "                                                   &#x27;AVG_utilities_CPI&#x27;])])),\n",
              "                (&#x27;kneighborsregressor&#x27;, KNeighborsRegressor(n_neighbors=10))])</pre></div></div></div><div class=\"sk-serial\"><div class=\"sk-item sk-dashed-wrapped\"><div class=\"sk-label-container\"><div class=\"sk-label sk-toggleable\"><input class=\"sk-toggleable__control sk-hidden--visually\" id=\"sk-estimator-id-12\" type=\"checkbox\" ><label for=\"sk-estimator-id-12\" class=\"sk-toggleable__label sk-toggleable__label-arrow\">columntransformer: ColumnTransformer</label><div class=\"sk-toggleable__content\"><pre>ColumnTransformer(transformers=[(&#x27;standardscaler&#x27;, StandardScaler(),\n",
              "                                 [&#x27;Total nominal food sales per capita&#x27;,\n",
              "                                  &#x27;AVG_EduCom_CPI&#x27;, &#x27;AVG_furnish_CPI&#x27;,\n",
              "                                  &#x27;AVG_rec_CPI&#x27;, &#x27;AVG_Rent_CPI&#x27;,\n",
              "                                  &#x27;AVG_trans_CPI&#x27;, &#x27;AVG_utilities_CPI&#x27;])])</pre></div></div></div><div class=\"sk-parallel\"><div class=\"sk-parallel-item\"><div class=\"sk-item\"><div class=\"sk-label-container\"><div class=\"sk-label sk-toggleable\"><input class=\"sk-toggleable__control sk-hidden--visually\" id=\"sk-estimator-id-13\" type=\"checkbox\" ><label for=\"sk-estimator-id-13\" class=\"sk-toggleable__label sk-toggleable__label-arrow\">standardscaler</label><div class=\"sk-toggleable__content\"><pre>[&#x27;Total nominal food sales per capita&#x27;, &#x27;AVG_EduCom_CPI&#x27;, &#x27;AVG_furnish_CPI&#x27;, &#x27;AVG_rec_CPI&#x27;, &#x27;AVG_Rent_CPI&#x27;, &#x27;AVG_trans_CPI&#x27;, &#x27;AVG_utilities_CPI&#x27;]</pre></div></div></div><div class=\"sk-serial\"><div class=\"sk-item\"><div class=\"sk-estimator sk-toggleable\"><input class=\"sk-toggleable__control sk-hidden--visually\" id=\"sk-estimator-id-14\" type=\"checkbox\" ><label for=\"sk-estimator-id-14\" class=\"sk-toggleable__label sk-toggleable__label-arrow\">StandardScaler</label><div class=\"sk-toggleable__content\"><pre>StandardScaler()</pre></div></div></div></div></div></div></div></div><div class=\"sk-item\"><div class=\"sk-estimator sk-toggleable\"><input class=\"sk-toggleable__control sk-hidden--visually\" id=\"sk-estimator-id-15\" type=\"checkbox\" ><label for=\"sk-estimator-id-15\" class=\"sk-toggleable__label sk-toggleable__label-arrow\">KNeighborsRegressor</label><div class=\"sk-toggleable__content\"><pre>KNeighborsRegressor(n_neighbors=10)</pre></div></div></div></div></div></div></div>"
            ]
          },
          "metadata": {},
          "execution_count": 136
        }
      ]
    },
    {
      "cell_type": "code",
      "source": [
        "X_train = DC[[\"Total nominal food sales per capita\", \"AVG_EduCom_CPI\", \"AVG_furnish_CPI\", \"AVG_rec_CPI\", \"AVG_Rent_CPI\", \"AVG_trans_CPI\", \"AVG_utilities_CPI\"]]\n",
        "y_train = DC[\"income\"]\n",
        "\n",
        "scores = cross_val_score(\n",
        "    pipeline_knn,\n",
        "    X=X_train,\n",
        "    y=y_train,\n",
        "    cv=10,\n",
        "    scoring=\"neg_mean_squared_error\"\n",
        ")\n",
        "np.sqrt(-scores.mean())"
      ],
      "metadata": {
        "colab": {
          "base_uri": "https://localhost:8080/"
        },
        "id": "tmBxSRNvGJsm",
        "outputId": "18aa7c4e-5fba-4188-e6e6-42f81a76b6ef"
      },
      "execution_count": 137,
      "outputs": [
        {
          "output_type": "execute_result",
          "data": {
            "text/plain": [
              "11112.529271802467"
            ]
          },
          "metadata": {},
          "execution_count": 137
        }
      ]
    },
    {
      "cell_type": "code",
      "source": [
        "from sklearn.linear_model import LinearRegression\n",
        "pipeline_linreg = make_pipeline(\n",
        "    col_transformer,\n",
        "    LinearRegression() #Only change\n",
        ")\n",
        "\n",
        "scores = cross_val_score(\n",
        "    pipeline_linreg,\n",
        "    X=X_train,\n",
        "    y=y_train,\n",
        "    cv=10,\n",
        "    scoring=\"neg_mean_squared_error\"\n",
        ")\n",
        "np.sqrt(-scores.mean())"
      ],
      "metadata": {
        "colab": {
          "base_uri": "https://localhost:8080/"
        },
        "id": "lY1i6QJpGsOr",
        "outputId": "7fe278c4-4901-49f8-b333-504b48c84def"
      },
      "execution_count": 138,
      "outputs": [
        {
          "output_type": "execute_result",
          "data": {
            "text/plain": [
              "6044.82025660708"
            ]
          },
          "metadata": {},
          "execution_count": 138
        }
      ]
    },
    {
      "cell_type": "markdown",
      "source": [
        "Linear regression has the lowest RSME so we prefer it compared to 10-nearest neighbors which has a high RSME of 11112.529271802467."
      ],
      "metadata": {
        "id": "nn-wvGZJIF3o"
      }
    },
    {
      "cell_type": "code",
      "source": [
        "\n",
        "#This code defines a function to\n",
        "#calculate the training error (RMSE) for a KNN\n",
        "#regression model trained on given data with a specified number of neighbors.\n",
        "\n",
        "def calculate_training_error(k, X_train, y_train, col_transformer):\n",
        "\n",
        "    pipeline_knn = make_pipeline(\n",
        "        col_transformer,\n",
        "        KNeighborsRegressor(n_neighbors=k)\n",
        "    )\n",
        "\n",
        "\n",
        "    pipeline_knn.fit(X_train, y_train)\n",
        "    y_train_pred = pipeline_knn.predict(X_train)\n",
        "\n",
        "    return np.sqrt(mean_squared_error(y_train, y_train_pred))\n",
        "training_errors = {}\n",
        "for k in range(1, 24):\n",
        "    error = calculate_training_error(k, X_train, y_train, col_transformer)\n",
        "    training_errors[k] = error\n",
        "\n",
        "training_errors_series = pd.Series(training_errors)\n",
        "training_errors_series"
      ],
      "metadata": {
        "colab": {
          "base_uri": "https://localhost:8080/"
        },
        "id": "l2BXQXzFInVt",
        "outputId": "259007a4-1a35-4a94-992d-d56e2ebd46c4"
      },
      "execution_count": 139,
      "outputs": [
        {
          "output_type": "execute_result",
          "data": {
            "text/plain": [
              "1         0.000000\n",
              "2      2909.776624\n",
              "3      3230.107385\n",
              "4      3482.478152\n",
              "5      4268.412698\n",
              "6      5003.081538\n",
              "7      5671.065996\n",
              "8      6225.115090\n",
              "9      6912.446696\n",
              "10     7494.164588\n",
              "11     8038.792244\n",
              "12     8709.533571\n",
              "13     9102.585149\n",
              "14     9443.108719\n",
              "15     9760.929406\n",
              "16    10143.954613\n",
              "17    10670.413727\n",
              "18    11080.226012\n",
              "19    11401.705582\n",
              "20    11758.934589\n",
              "21    12199.104723\n",
              "22    12661.657212\n",
              "23    13333.563404\n",
              "dtype: float64"
            ]
          },
          "metadata": {},
          "execution_count": 139
        }
      ]
    },
    {
      "cell_type": "code",
      "source": [
        "def estimate_test_error(k):\n",
        "\n",
        "  pipeline_knn = make_pipeline(\n",
        "    col_transformer,\n",
        "    KNeighborsRegressor(n_neighbors=k)\n",
        "    )\n",
        "  return np.sqrt(-cross_val_score(\n",
        "      pipeline_knn,\n",
        "      X=X_train,\n",
        "      y=y_train,\n",
        "      cv=10,\n",
        "      scoring=\"neg_mean_squared_error\"\n",
        "  ).mean())\n",
        "\n",
        "ks = range(1, 24)\n",
        "test_errors = pd.Series([])\n",
        "for x in range(1, 24):\n",
        "  error = estimate_test_error(x)\n",
        "  test_errors[x] = error\n",
        "test_errors"
      ],
      "metadata": {
        "colab": {
          "base_uri": "https://localhost:8080/"
        },
        "id": "PRJG8y6tLS_l",
        "outputId": "631429f7-827a-4791-c9c7-193de11f904c"
      },
      "execution_count": 140,
      "outputs": [
        {
          "output_type": "stream",
          "name": "stderr",
          "text": [
            "/usr/local/lib/python3.10/dist-packages/sklearn/model_selection/_validation.py:794: UserWarning: Scoring failed. The score on this train-test partition for these parameters will be set to nan. Details: \n",
            "Traceback (most recent call last):\n",
            "  File \"/usr/local/lib/python3.10/dist-packages/sklearn/metrics/_scorer.py\", line 115, in __call__\n",
            "    score = scorer._score(cached_call, estimator, *args, **kwargs)\n",
            "  File \"/usr/local/lib/python3.10/dist-packages/sklearn/metrics/_scorer.py\", line 276, in _score\n",
            "    y_pred = method_caller(estimator, \"predict\", X)\n",
            "  File \"/usr/local/lib/python3.10/dist-packages/sklearn/metrics/_scorer.py\", line 73, in _cached_call\n",
            "    return getattr(estimator, method)(*args, **kwargs)\n",
            "  File \"/usr/local/lib/python3.10/dist-packages/sklearn/pipeline.py\", line 481, in predict\n",
            "    return self.steps[-1][1].predict(Xt, **predict_params)\n",
            "  File \"/usr/local/lib/python3.10/dist-packages/sklearn/neighbors/_regression.py\", line 236, in predict\n",
            "    neigh_ind = self.kneighbors(X, return_distance=False)\n",
            "  File \"/usr/local/lib/python3.10/dist-packages/sklearn/neighbors/_base.py\", line 810, in kneighbors\n",
            "    raise ValueError(\n",
            "ValueError: Expected n_neighbors <= n_samples,  but n_samples = 20, n_neighbors = 21\n",
            "\n",
            "  warnings.warn(\n",
            "/usr/local/lib/python3.10/dist-packages/sklearn/model_selection/_validation.py:794: UserWarning: Scoring failed. The score on this train-test partition for these parameters will be set to nan. Details: \n",
            "Traceback (most recent call last):\n",
            "  File \"/usr/local/lib/python3.10/dist-packages/sklearn/metrics/_scorer.py\", line 115, in __call__\n",
            "    score = scorer._score(cached_call, estimator, *args, **kwargs)\n",
            "  File \"/usr/local/lib/python3.10/dist-packages/sklearn/metrics/_scorer.py\", line 276, in _score\n",
            "    y_pred = method_caller(estimator, \"predict\", X)\n",
            "  File \"/usr/local/lib/python3.10/dist-packages/sklearn/metrics/_scorer.py\", line 73, in _cached_call\n",
            "    return getattr(estimator, method)(*args, **kwargs)\n",
            "  File \"/usr/local/lib/python3.10/dist-packages/sklearn/pipeline.py\", line 481, in predict\n",
            "    return self.steps[-1][1].predict(Xt, **predict_params)\n",
            "  File \"/usr/local/lib/python3.10/dist-packages/sklearn/neighbors/_regression.py\", line 236, in predict\n",
            "    neigh_ind = self.kneighbors(X, return_distance=False)\n",
            "  File \"/usr/local/lib/python3.10/dist-packages/sklearn/neighbors/_base.py\", line 810, in kneighbors\n",
            "    raise ValueError(\n",
            "ValueError: Expected n_neighbors <= n_samples,  but n_samples = 20, n_neighbors = 21\n",
            "\n",
            "  warnings.warn(\n",
            "/usr/local/lib/python3.10/dist-packages/sklearn/model_selection/_validation.py:794: UserWarning: Scoring failed. The score on this train-test partition for these parameters will be set to nan. Details: \n",
            "Traceback (most recent call last):\n",
            "  File \"/usr/local/lib/python3.10/dist-packages/sklearn/metrics/_scorer.py\", line 115, in __call__\n",
            "    score = scorer._score(cached_call, estimator, *args, **kwargs)\n",
            "  File \"/usr/local/lib/python3.10/dist-packages/sklearn/metrics/_scorer.py\", line 276, in _score\n",
            "    y_pred = method_caller(estimator, \"predict\", X)\n",
            "  File \"/usr/local/lib/python3.10/dist-packages/sklearn/metrics/_scorer.py\", line 73, in _cached_call\n",
            "    return getattr(estimator, method)(*args, **kwargs)\n",
            "  File \"/usr/local/lib/python3.10/dist-packages/sklearn/pipeline.py\", line 481, in predict\n",
            "    return self.steps[-1][1].predict(Xt, **predict_params)\n",
            "  File \"/usr/local/lib/python3.10/dist-packages/sklearn/neighbors/_regression.py\", line 236, in predict\n",
            "    neigh_ind = self.kneighbors(X, return_distance=False)\n",
            "  File \"/usr/local/lib/python3.10/dist-packages/sklearn/neighbors/_base.py\", line 810, in kneighbors\n",
            "    raise ValueError(\n",
            "ValueError: Expected n_neighbors <= n_samples,  but n_samples = 20, n_neighbors = 21\n",
            "\n",
            "  warnings.warn(\n",
            "/usr/local/lib/python3.10/dist-packages/sklearn/model_selection/_validation.py:794: UserWarning: Scoring failed. The score on this train-test partition for these parameters will be set to nan. Details: \n",
            "Traceback (most recent call last):\n",
            "  File \"/usr/local/lib/python3.10/dist-packages/sklearn/metrics/_scorer.py\", line 115, in __call__\n",
            "    score = scorer._score(cached_call, estimator, *args, **kwargs)\n",
            "  File \"/usr/local/lib/python3.10/dist-packages/sklearn/metrics/_scorer.py\", line 276, in _score\n",
            "    y_pred = method_caller(estimator, \"predict\", X)\n",
            "  File \"/usr/local/lib/python3.10/dist-packages/sklearn/metrics/_scorer.py\", line 73, in _cached_call\n",
            "    return getattr(estimator, method)(*args, **kwargs)\n",
            "  File \"/usr/local/lib/python3.10/dist-packages/sklearn/pipeline.py\", line 481, in predict\n",
            "    return self.steps[-1][1].predict(Xt, **predict_params)\n",
            "  File \"/usr/local/lib/python3.10/dist-packages/sklearn/neighbors/_regression.py\", line 236, in predict\n",
            "    neigh_ind = self.kneighbors(X, return_distance=False)\n",
            "  File \"/usr/local/lib/python3.10/dist-packages/sklearn/neighbors/_base.py\", line 810, in kneighbors\n",
            "    raise ValueError(\n",
            "ValueError: Expected n_neighbors <= n_samples,  but n_samples = 20, n_neighbors = 22\n",
            "\n",
            "  warnings.warn(\n",
            "/usr/local/lib/python3.10/dist-packages/sklearn/model_selection/_validation.py:794: UserWarning: Scoring failed. The score on this train-test partition for these parameters will be set to nan. Details: \n",
            "Traceback (most recent call last):\n",
            "  File \"/usr/local/lib/python3.10/dist-packages/sklearn/metrics/_scorer.py\", line 115, in __call__\n",
            "    score = scorer._score(cached_call, estimator, *args, **kwargs)\n",
            "  File \"/usr/local/lib/python3.10/dist-packages/sklearn/metrics/_scorer.py\", line 276, in _score\n",
            "    y_pred = method_caller(estimator, \"predict\", X)\n",
            "  File \"/usr/local/lib/python3.10/dist-packages/sklearn/metrics/_scorer.py\", line 73, in _cached_call\n",
            "    return getattr(estimator, method)(*args, **kwargs)\n",
            "  File \"/usr/local/lib/python3.10/dist-packages/sklearn/pipeline.py\", line 481, in predict\n",
            "    return self.steps[-1][1].predict(Xt, **predict_params)\n",
            "  File \"/usr/local/lib/python3.10/dist-packages/sklearn/neighbors/_regression.py\", line 236, in predict\n",
            "    neigh_ind = self.kneighbors(X, return_distance=False)\n",
            "  File \"/usr/local/lib/python3.10/dist-packages/sklearn/neighbors/_base.py\", line 810, in kneighbors\n",
            "    raise ValueError(\n",
            "ValueError: Expected n_neighbors <= n_samples,  but n_samples = 20, n_neighbors = 22\n",
            "\n",
            "  warnings.warn(\n",
            "/usr/local/lib/python3.10/dist-packages/sklearn/model_selection/_validation.py:794: UserWarning: Scoring failed. The score on this train-test partition for these parameters will be set to nan. Details: \n",
            "Traceback (most recent call last):\n",
            "  File \"/usr/local/lib/python3.10/dist-packages/sklearn/metrics/_scorer.py\", line 115, in __call__\n",
            "    score = scorer._score(cached_call, estimator, *args, **kwargs)\n",
            "  File \"/usr/local/lib/python3.10/dist-packages/sklearn/metrics/_scorer.py\", line 276, in _score\n",
            "    y_pred = method_caller(estimator, \"predict\", X)\n",
            "  File \"/usr/local/lib/python3.10/dist-packages/sklearn/metrics/_scorer.py\", line 73, in _cached_call\n",
            "    return getattr(estimator, method)(*args, **kwargs)\n",
            "  File \"/usr/local/lib/python3.10/dist-packages/sklearn/pipeline.py\", line 481, in predict\n",
            "    return self.steps[-1][1].predict(Xt, **predict_params)\n",
            "  File \"/usr/local/lib/python3.10/dist-packages/sklearn/neighbors/_regression.py\", line 236, in predict\n",
            "    neigh_ind = self.kneighbors(X, return_distance=False)\n",
            "  File \"/usr/local/lib/python3.10/dist-packages/sklearn/neighbors/_base.py\", line 810, in kneighbors\n",
            "    raise ValueError(\n",
            "ValueError: Expected n_neighbors <= n_samples,  but n_samples = 20, n_neighbors = 22\n",
            "\n",
            "  warnings.warn(\n",
            "/usr/local/lib/python3.10/dist-packages/sklearn/model_selection/_validation.py:794: UserWarning: Scoring failed. The score on this train-test partition for these parameters will be set to nan. Details: \n",
            "Traceback (most recent call last):\n",
            "  File \"/usr/local/lib/python3.10/dist-packages/sklearn/metrics/_scorer.py\", line 115, in __call__\n",
            "    score = scorer._score(cached_call, estimator, *args, **kwargs)\n",
            "  File \"/usr/local/lib/python3.10/dist-packages/sklearn/metrics/_scorer.py\", line 276, in _score\n",
            "    y_pred = method_caller(estimator, \"predict\", X)\n",
            "  File \"/usr/local/lib/python3.10/dist-packages/sklearn/metrics/_scorer.py\", line 73, in _cached_call\n",
            "    return getattr(estimator, method)(*args, **kwargs)\n",
            "  File \"/usr/local/lib/python3.10/dist-packages/sklearn/pipeline.py\", line 481, in predict\n",
            "    return self.steps[-1][1].predict(Xt, **predict_params)\n",
            "  File \"/usr/local/lib/python3.10/dist-packages/sklearn/neighbors/_regression.py\", line 236, in predict\n",
            "    neigh_ind = self.kneighbors(X, return_distance=False)\n",
            "  File \"/usr/local/lib/python3.10/dist-packages/sklearn/neighbors/_base.py\", line 810, in kneighbors\n",
            "    raise ValueError(\n",
            "ValueError: Expected n_neighbors <= n_samples,  but n_samples = 21, n_neighbors = 22\n",
            "\n",
            "  warnings.warn(\n",
            "/usr/local/lib/python3.10/dist-packages/sklearn/model_selection/_validation.py:794: UserWarning: Scoring failed. The score on this train-test partition for these parameters will be set to nan. Details: \n",
            "Traceback (most recent call last):\n",
            "  File \"/usr/local/lib/python3.10/dist-packages/sklearn/metrics/_scorer.py\", line 115, in __call__\n",
            "    score = scorer._score(cached_call, estimator, *args, **kwargs)\n",
            "  File \"/usr/local/lib/python3.10/dist-packages/sklearn/metrics/_scorer.py\", line 276, in _score\n",
            "    y_pred = method_caller(estimator, \"predict\", X)\n",
            "  File \"/usr/local/lib/python3.10/dist-packages/sklearn/metrics/_scorer.py\", line 73, in _cached_call\n",
            "    return getattr(estimator, method)(*args, **kwargs)\n",
            "  File \"/usr/local/lib/python3.10/dist-packages/sklearn/pipeline.py\", line 481, in predict\n",
            "    return self.steps[-1][1].predict(Xt, **predict_params)\n",
            "  File \"/usr/local/lib/python3.10/dist-packages/sklearn/neighbors/_regression.py\", line 236, in predict\n",
            "    neigh_ind = self.kneighbors(X, return_distance=False)\n",
            "  File \"/usr/local/lib/python3.10/dist-packages/sklearn/neighbors/_base.py\", line 810, in kneighbors\n",
            "    raise ValueError(\n",
            "ValueError: Expected n_neighbors <= n_samples,  but n_samples = 21, n_neighbors = 22\n",
            "\n",
            "  warnings.warn(\n",
            "/usr/local/lib/python3.10/dist-packages/sklearn/model_selection/_validation.py:794: UserWarning: Scoring failed. The score on this train-test partition for these parameters will be set to nan. Details: \n",
            "Traceback (most recent call last):\n",
            "  File \"/usr/local/lib/python3.10/dist-packages/sklearn/metrics/_scorer.py\", line 115, in __call__\n",
            "    score = scorer._score(cached_call, estimator, *args, **kwargs)\n",
            "  File \"/usr/local/lib/python3.10/dist-packages/sklearn/metrics/_scorer.py\", line 276, in _score\n",
            "    y_pred = method_caller(estimator, \"predict\", X)\n",
            "  File \"/usr/local/lib/python3.10/dist-packages/sklearn/metrics/_scorer.py\", line 73, in _cached_call\n",
            "    return getattr(estimator, method)(*args, **kwargs)\n",
            "  File \"/usr/local/lib/python3.10/dist-packages/sklearn/pipeline.py\", line 481, in predict\n",
            "    return self.steps[-1][1].predict(Xt, **predict_params)\n",
            "  File \"/usr/local/lib/python3.10/dist-packages/sklearn/neighbors/_regression.py\", line 236, in predict\n",
            "    neigh_ind = self.kneighbors(X, return_distance=False)\n",
            "  File \"/usr/local/lib/python3.10/dist-packages/sklearn/neighbors/_base.py\", line 810, in kneighbors\n",
            "    raise ValueError(\n",
            "ValueError: Expected n_neighbors <= n_samples,  but n_samples = 21, n_neighbors = 22\n",
            "\n",
            "  warnings.warn(\n",
            "/usr/local/lib/python3.10/dist-packages/sklearn/model_selection/_validation.py:794: UserWarning: Scoring failed. The score on this train-test partition for these parameters will be set to nan. Details: \n",
            "Traceback (most recent call last):\n",
            "  File \"/usr/local/lib/python3.10/dist-packages/sklearn/metrics/_scorer.py\", line 115, in __call__\n",
            "    score = scorer._score(cached_call, estimator, *args, **kwargs)\n",
            "  File \"/usr/local/lib/python3.10/dist-packages/sklearn/metrics/_scorer.py\", line 276, in _score\n",
            "    y_pred = method_caller(estimator, \"predict\", X)\n",
            "  File \"/usr/local/lib/python3.10/dist-packages/sklearn/metrics/_scorer.py\", line 73, in _cached_call\n",
            "    return getattr(estimator, method)(*args, **kwargs)\n",
            "  File \"/usr/local/lib/python3.10/dist-packages/sklearn/pipeline.py\", line 481, in predict\n",
            "    return self.steps[-1][1].predict(Xt, **predict_params)\n",
            "  File \"/usr/local/lib/python3.10/dist-packages/sklearn/neighbors/_regression.py\", line 236, in predict\n",
            "    neigh_ind = self.kneighbors(X, return_distance=False)\n",
            "  File \"/usr/local/lib/python3.10/dist-packages/sklearn/neighbors/_base.py\", line 810, in kneighbors\n",
            "    raise ValueError(\n",
            "ValueError: Expected n_neighbors <= n_samples,  but n_samples = 21, n_neighbors = 22\n",
            "\n",
            "  warnings.warn(\n",
            "/usr/local/lib/python3.10/dist-packages/sklearn/model_selection/_validation.py:794: UserWarning: Scoring failed. The score on this train-test partition for these parameters will be set to nan. Details: \n",
            "Traceback (most recent call last):\n",
            "  File \"/usr/local/lib/python3.10/dist-packages/sklearn/metrics/_scorer.py\", line 115, in __call__\n",
            "    score = scorer._score(cached_call, estimator, *args, **kwargs)\n",
            "  File \"/usr/local/lib/python3.10/dist-packages/sklearn/metrics/_scorer.py\", line 276, in _score\n",
            "    y_pred = method_caller(estimator, \"predict\", X)\n",
            "  File \"/usr/local/lib/python3.10/dist-packages/sklearn/metrics/_scorer.py\", line 73, in _cached_call\n",
            "    return getattr(estimator, method)(*args, **kwargs)\n",
            "  File \"/usr/local/lib/python3.10/dist-packages/sklearn/pipeline.py\", line 481, in predict\n",
            "    return self.steps[-1][1].predict(Xt, **predict_params)\n",
            "  File \"/usr/local/lib/python3.10/dist-packages/sklearn/neighbors/_regression.py\", line 236, in predict\n",
            "    neigh_ind = self.kneighbors(X, return_distance=False)\n",
            "  File \"/usr/local/lib/python3.10/dist-packages/sklearn/neighbors/_base.py\", line 810, in kneighbors\n",
            "    raise ValueError(\n",
            "ValueError: Expected n_neighbors <= n_samples,  but n_samples = 21, n_neighbors = 22\n",
            "\n",
            "  warnings.warn(\n",
            "/usr/local/lib/python3.10/dist-packages/sklearn/model_selection/_validation.py:794: UserWarning: Scoring failed. The score on this train-test partition for these parameters will be set to nan. Details: \n",
            "Traceback (most recent call last):\n",
            "  File \"/usr/local/lib/python3.10/dist-packages/sklearn/metrics/_scorer.py\", line 115, in __call__\n",
            "    score = scorer._score(cached_call, estimator, *args, **kwargs)\n",
            "  File \"/usr/local/lib/python3.10/dist-packages/sklearn/metrics/_scorer.py\", line 276, in _score\n",
            "    y_pred = method_caller(estimator, \"predict\", X)\n",
            "  File \"/usr/local/lib/python3.10/dist-packages/sklearn/metrics/_scorer.py\", line 73, in _cached_call\n",
            "    return getattr(estimator, method)(*args, **kwargs)\n",
            "  File \"/usr/local/lib/python3.10/dist-packages/sklearn/pipeline.py\", line 481, in predict\n",
            "    return self.steps[-1][1].predict(Xt, **predict_params)\n",
            "  File \"/usr/local/lib/python3.10/dist-packages/sklearn/neighbors/_regression.py\", line 236, in predict\n",
            "    neigh_ind = self.kneighbors(X, return_distance=False)\n",
            "  File \"/usr/local/lib/python3.10/dist-packages/sklearn/neighbors/_base.py\", line 810, in kneighbors\n",
            "    raise ValueError(\n",
            "ValueError: Expected n_neighbors <= n_samples,  but n_samples = 21, n_neighbors = 22\n",
            "\n",
            "  warnings.warn(\n",
            "/usr/local/lib/python3.10/dist-packages/sklearn/model_selection/_validation.py:794: UserWarning: Scoring failed. The score on this train-test partition for these parameters will be set to nan. Details: \n",
            "Traceback (most recent call last):\n",
            "  File \"/usr/local/lib/python3.10/dist-packages/sklearn/metrics/_scorer.py\", line 115, in __call__\n",
            "    score = scorer._score(cached_call, estimator, *args, **kwargs)\n",
            "  File \"/usr/local/lib/python3.10/dist-packages/sklearn/metrics/_scorer.py\", line 276, in _score\n",
            "    y_pred = method_caller(estimator, \"predict\", X)\n",
            "  File \"/usr/local/lib/python3.10/dist-packages/sklearn/metrics/_scorer.py\", line 73, in _cached_call\n",
            "    return getattr(estimator, method)(*args, **kwargs)\n",
            "  File \"/usr/local/lib/python3.10/dist-packages/sklearn/pipeline.py\", line 481, in predict\n",
            "    return self.steps[-1][1].predict(Xt, **predict_params)\n",
            "  File \"/usr/local/lib/python3.10/dist-packages/sklearn/neighbors/_regression.py\", line 236, in predict\n",
            "    neigh_ind = self.kneighbors(X, return_distance=False)\n",
            "  File \"/usr/local/lib/python3.10/dist-packages/sklearn/neighbors/_base.py\", line 810, in kneighbors\n",
            "    raise ValueError(\n",
            "ValueError: Expected n_neighbors <= n_samples,  but n_samples = 21, n_neighbors = 22\n",
            "\n",
            "  warnings.warn(\n",
            "/usr/local/lib/python3.10/dist-packages/sklearn/model_selection/_validation.py:794: UserWarning: Scoring failed. The score on this train-test partition for these parameters will be set to nan. Details: \n",
            "Traceback (most recent call last):\n",
            "  File \"/usr/local/lib/python3.10/dist-packages/sklearn/metrics/_scorer.py\", line 115, in __call__\n",
            "    score = scorer._score(cached_call, estimator, *args, **kwargs)\n",
            "  File \"/usr/local/lib/python3.10/dist-packages/sklearn/metrics/_scorer.py\", line 276, in _score\n",
            "    y_pred = method_caller(estimator, \"predict\", X)\n",
            "  File \"/usr/local/lib/python3.10/dist-packages/sklearn/metrics/_scorer.py\", line 73, in _cached_call\n",
            "    return getattr(estimator, method)(*args, **kwargs)\n",
            "  File \"/usr/local/lib/python3.10/dist-packages/sklearn/pipeline.py\", line 481, in predict\n",
            "    return self.steps[-1][1].predict(Xt, **predict_params)\n",
            "  File \"/usr/local/lib/python3.10/dist-packages/sklearn/neighbors/_regression.py\", line 236, in predict\n",
            "    neigh_ind = self.kneighbors(X, return_distance=False)\n",
            "  File \"/usr/local/lib/python3.10/dist-packages/sklearn/neighbors/_base.py\", line 810, in kneighbors\n",
            "    raise ValueError(\n",
            "ValueError: Expected n_neighbors <= n_samples,  but n_samples = 20, n_neighbors = 23\n",
            "\n",
            "  warnings.warn(\n",
            "/usr/local/lib/python3.10/dist-packages/sklearn/model_selection/_validation.py:794: UserWarning: Scoring failed. The score on this train-test partition for these parameters will be set to nan. Details: \n",
            "Traceback (most recent call last):\n",
            "  File \"/usr/local/lib/python3.10/dist-packages/sklearn/metrics/_scorer.py\", line 115, in __call__\n",
            "    score = scorer._score(cached_call, estimator, *args, **kwargs)\n",
            "  File \"/usr/local/lib/python3.10/dist-packages/sklearn/metrics/_scorer.py\", line 276, in _score\n",
            "    y_pred = method_caller(estimator, \"predict\", X)\n",
            "  File \"/usr/local/lib/python3.10/dist-packages/sklearn/metrics/_scorer.py\", line 73, in _cached_call\n",
            "    return getattr(estimator, method)(*args, **kwargs)\n",
            "  File \"/usr/local/lib/python3.10/dist-packages/sklearn/pipeline.py\", line 481, in predict\n",
            "    return self.steps[-1][1].predict(Xt, **predict_params)\n",
            "  File \"/usr/local/lib/python3.10/dist-packages/sklearn/neighbors/_regression.py\", line 236, in predict\n",
            "    neigh_ind = self.kneighbors(X, return_distance=False)\n",
            "  File \"/usr/local/lib/python3.10/dist-packages/sklearn/neighbors/_base.py\", line 810, in kneighbors\n",
            "    raise ValueError(\n",
            "ValueError: Expected n_neighbors <= n_samples,  but n_samples = 20, n_neighbors = 23\n",
            "\n",
            "  warnings.warn(\n",
            "/usr/local/lib/python3.10/dist-packages/sklearn/model_selection/_validation.py:794: UserWarning: Scoring failed. The score on this train-test partition for these parameters will be set to nan. Details: \n",
            "Traceback (most recent call last):\n",
            "  File \"/usr/local/lib/python3.10/dist-packages/sklearn/metrics/_scorer.py\", line 115, in __call__\n",
            "    score = scorer._score(cached_call, estimator, *args, **kwargs)\n",
            "  File \"/usr/local/lib/python3.10/dist-packages/sklearn/metrics/_scorer.py\", line 276, in _score\n",
            "    y_pred = method_caller(estimator, \"predict\", X)\n",
            "  File \"/usr/local/lib/python3.10/dist-packages/sklearn/metrics/_scorer.py\", line 73, in _cached_call\n",
            "    return getattr(estimator, method)(*args, **kwargs)\n",
            "  File \"/usr/local/lib/python3.10/dist-packages/sklearn/pipeline.py\", line 481, in predict\n",
            "    return self.steps[-1][1].predict(Xt, **predict_params)\n",
            "  File \"/usr/local/lib/python3.10/dist-packages/sklearn/neighbors/_regression.py\", line 236, in predict\n",
            "    neigh_ind = self.kneighbors(X, return_distance=False)\n",
            "  File \"/usr/local/lib/python3.10/dist-packages/sklearn/neighbors/_base.py\", line 810, in kneighbors\n",
            "    raise ValueError(\n",
            "ValueError: Expected n_neighbors <= n_samples,  but n_samples = 20, n_neighbors = 23\n",
            "\n",
            "  warnings.warn(\n",
            "/usr/local/lib/python3.10/dist-packages/sklearn/model_selection/_validation.py:794: UserWarning: Scoring failed. The score on this train-test partition for these parameters will be set to nan. Details: \n",
            "Traceback (most recent call last):\n",
            "  File \"/usr/local/lib/python3.10/dist-packages/sklearn/metrics/_scorer.py\", line 115, in __call__\n",
            "    score = scorer._score(cached_call, estimator, *args, **kwargs)\n",
            "  File \"/usr/local/lib/python3.10/dist-packages/sklearn/metrics/_scorer.py\", line 276, in _score\n",
            "    y_pred = method_caller(estimator, \"predict\", X)\n",
            "  File \"/usr/local/lib/python3.10/dist-packages/sklearn/metrics/_scorer.py\", line 73, in _cached_call\n",
            "    return getattr(estimator, method)(*args, **kwargs)\n",
            "  File \"/usr/local/lib/python3.10/dist-packages/sklearn/pipeline.py\", line 481, in predict\n",
            "    return self.steps[-1][1].predict(Xt, **predict_params)\n",
            "  File \"/usr/local/lib/python3.10/dist-packages/sklearn/neighbors/_regression.py\", line 236, in predict\n",
            "    neigh_ind = self.kneighbors(X, return_distance=False)\n",
            "  File \"/usr/local/lib/python3.10/dist-packages/sklearn/neighbors/_base.py\", line 810, in kneighbors\n",
            "    raise ValueError(\n",
            "ValueError: Expected n_neighbors <= n_samples,  but n_samples = 21, n_neighbors = 23\n",
            "\n",
            "  warnings.warn(\n",
            "/usr/local/lib/python3.10/dist-packages/sklearn/model_selection/_validation.py:794: UserWarning: Scoring failed. The score on this train-test partition for these parameters will be set to nan. Details: \n",
            "Traceback (most recent call last):\n",
            "  File \"/usr/local/lib/python3.10/dist-packages/sklearn/metrics/_scorer.py\", line 115, in __call__\n",
            "    score = scorer._score(cached_call, estimator, *args, **kwargs)\n",
            "  File \"/usr/local/lib/python3.10/dist-packages/sklearn/metrics/_scorer.py\", line 276, in _score\n",
            "    y_pred = method_caller(estimator, \"predict\", X)\n",
            "  File \"/usr/local/lib/python3.10/dist-packages/sklearn/metrics/_scorer.py\", line 73, in _cached_call\n",
            "    return getattr(estimator, method)(*args, **kwargs)\n",
            "  File \"/usr/local/lib/python3.10/dist-packages/sklearn/pipeline.py\", line 481, in predict\n",
            "    return self.steps[-1][1].predict(Xt, **predict_params)\n",
            "  File \"/usr/local/lib/python3.10/dist-packages/sklearn/neighbors/_regression.py\", line 236, in predict\n",
            "    neigh_ind = self.kneighbors(X, return_distance=False)\n",
            "  File \"/usr/local/lib/python3.10/dist-packages/sklearn/neighbors/_base.py\", line 810, in kneighbors\n",
            "    raise ValueError(\n",
            "ValueError: Expected n_neighbors <= n_samples,  but n_samples = 21, n_neighbors = 23\n",
            "\n",
            "  warnings.warn(\n",
            "/usr/local/lib/python3.10/dist-packages/sklearn/model_selection/_validation.py:794: UserWarning: Scoring failed. The score on this train-test partition for these parameters will be set to nan. Details: \n",
            "Traceback (most recent call last):\n",
            "  File \"/usr/local/lib/python3.10/dist-packages/sklearn/metrics/_scorer.py\", line 115, in __call__\n",
            "    score = scorer._score(cached_call, estimator, *args, **kwargs)\n",
            "  File \"/usr/local/lib/python3.10/dist-packages/sklearn/metrics/_scorer.py\", line 276, in _score\n",
            "    y_pred = method_caller(estimator, \"predict\", X)\n",
            "  File \"/usr/local/lib/python3.10/dist-packages/sklearn/metrics/_scorer.py\", line 73, in _cached_call\n",
            "    return getattr(estimator, method)(*args, **kwargs)\n",
            "  File \"/usr/local/lib/python3.10/dist-packages/sklearn/pipeline.py\", line 481, in predict\n",
            "    return self.steps[-1][1].predict(Xt, **predict_params)\n",
            "  File \"/usr/local/lib/python3.10/dist-packages/sklearn/neighbors/_regression.py\", line 236, in predict\n",
            "    neigh_ind = self.kneighbors(X, return_distance=False)\n",
            "  File \"/usr/local/lib/python3.10/dist-packages/sklearn/neighbors/_base.py\", line 810, in kneighbors\n",
            "    raise ValueError(\n",
            "ValueError: Expected n_neighbors <= n_samples,  but n_samples = 21, n_neighbors = 23\n",
            "\n",
            "  warnings.warn(\n",
            "/usr/local/lib/python3.10/dist-packages/sklearn/model_selection/_validation.py:794: UserWarning: Scoring failed. The score on this train-test partition for these parameters will be set to nan. Details: \n",
            "Traceback (most recent call last):\n",
            "  File \"/usr/local/lib/python3.10/dist-packages/sklearn/metrics/_scorer.py\", line 115, in __call__\n",
            "    score = scorer._score(cached_call, estimator, *args, **kwargs)\n",
            "  File \"/usr/local/lib/python3.10/dist-packages/sklearn/metrics/_scorer.py\", line 276, in _score\n",
            "    y_pred = method_caller(estimator, \"predict\", X)\n",
            "  File \"/usr/local/lib/python3.10/dist-packages/sklearn/metrics/_scorer.py\", line 73, in _cached_call\n",
            "    return getattr(estimator, method)(*args, **kwargs)\n",
            "  File \"/usr/local/lib/python3.10/dist-packages/sklearn/pipeline.py\", line 481, in predict\n",
            "    return self.steps[-1][1].predict(Xt, **predict_params)\n",
            "  File \"/usr/local/lib/python3.10/dist-packages/sklearn/neighbors/_regression.py\", line 236, in predict\n",
            "    neigh_ind = self.kneighbors(X, return_distance=False)\n",
            "  File \"/usr/local/lib/python3.10/dist-packages/sklearn/neighbors/_base.py\", line 810, in kneighbors\n",
            "    raise ValueError(\n",
            "ValueError: Expected n_neighbors <= n_samples,  but n_samples = 21, n_neighbors = 23\n",
            "\n",
            "  warnings.warn(\n",
            "/usr/local/lib/python3.10/dist-packages/sklearn/model_selection/_validation.py:794: UserWarning: Scoring failed. The score on this train-test partition for these parameters will be set to nan. Details: \n",
            "Traceback (most recent call last):\n",
            "  File \"/usr/local/lib/python3.10/dist-packages/sklearn/metrics/_scorer.py\", line 115, in __call__\n",
            "    score = scorer._score(cached_call, estimator, *args, **kwargs)\n",
            "  File \"/usr/local/lib/python3.10/dist-packages/sklearn/metrics/_scorer.py\", line 276, in _score\n",
            "    y_pred = method_caller(estimator, \"predict\", X)\n",
            "  File \"/usr/local/lib/python3.10/dist-packages/sklearn/metrics/_scorer.py\", line 73, in _cached_call\n",
            "    return getattr(estimator, method)(*args, **kwargs)\n",
            "  File \"/usr/local/lib/python3.10/dist-packages/sklearn/pipeline.py\", line 481, in predict\n",
            "    return self.steps[-1][1].predict(Xt, **predict_params)\n",
            "  File \"/usr/local/lib/python3.10/dist-packages/sklearn/neighbors/_regression.py\", line 236, in predict\n",
            "    neigh_ind = self.kneighbors(X, return_distance=False)\n",
            "  File \"/usr/local/lib/python3.10/dist-packages/sklearn/neighbors/_base.py\", line 810, in kneighbors\n",
            "    raise ValueError(\n",
            "ValueError: Expected n_neighbors <= n_samples,  but n_samples = 21, n_neighbors = 23\n",
            "\n",
            "  warnings.warn(\n",
            "/usr/local/lib/python3.10/dist-packages/sklearn/model_selection/_validation.py:794: UserWarning: Scoring failed. The score on this train-test partition for these parameters will be set to nan. Details: \n",
            "Traceback (most recent call last):\n",
            "  File \"/usr/local/lib/python3.10/dist-packages/sklearn/metrics/_scorer.py\", line 115, in __call__\n",
            "    score = scorer._score(cached_call, estimator, *args, **kwargs)\n",
            "  File \"/usr/local/lib/python3.10/dist-packages/sklearn/metrics/_scorer.py\", line 276, in _score\n",
            "    y_pred = method_caller(estimator, \"predict\", X)\n",
            "  File \"/usr/local/lib/python3.10/dist-packages/sklearn/metrics/_scorer.py\", line 73, in _cached_call\n",
            "    return getattr(estimator, method)(*args, **kwargs)\n",
            "  File \"/usr/local/lib/python3.10/dist-packages/sklearn/pipeline.py\", line 481, in predict\n",
            "    return self.steps[-1][1].predict(Xt, **predict_params)\n",
            "  File \"/usr/local/lib/python3.10/dist-packages/sklearn/neighbors/_regression.py\", line 236, in predict\n",
            "    neigh_ind = self.kneighbors(X, return_distance=False)\n",
            "  File \"/usr/local/lib/python3.10/dist-packages/sklearn/neighbors/_base.py\", line 810, in kneighbors\n",
            "    raise ValueError(\n",
            "ValueError: Expected n_neighbors <= n_samples,  but n_samples = 21, n_neighbors = 23\n",
            "\n",
            "  warnings.warn(\n",
            "/usr/local/lib/python3.10/dist-packages/sklearn/model_selection/_validation.py:794: UserWarning: Scoring failed. The score on this train-test partition for these parameters will be set to nan. Details: \n",
            "Traceback (most recent call last):\n",
            "  File \"/usr/local/lib/python3.10/dist-packages/sklearn/metrics/_scorer.py\", line 115, in __call__\n",
            "    score = scorer._score(cached_call, estimator, *args, **kwargs)\n",
            "  File \"/usr/local/lib/python3.10/dist-packages/sklearn/metrics/_scorer.py\", line 276, in _score\n",
            "    y_pred = method_caller(estimator, \"predict\", X)\n",
            "  File \"/usr/local/lib/python3.10/dist-packages/sklearn/metrics/_scorer.py\", line 73, in _cached_call\n",
            "    return getattr(estimator, method)(*args, **kwargs)\n",
            "  File \"/usr/local/lib/python3.10/dist-packages/sklearn/pipeline.py\", line 481, in predict\n",
            "    return self.steps[-1][1].predict(Xt, **predict_params)\n",
            "  File \"/usr/local/lib/python3.10/dist-packages/sklearn/neighbors/_regression.py\", line 236, in predict\n",
            "    neigh_ind = self.kneighbors(X, return_distance=False)\n",
            "  File \"/usr/local/lib/python3.10/dist-packages/sklearn/neighbors/_base.py\", line 810, in kneighbors\n",
            "    raise ValueError(\n",
            "ValueError: Expected n_neighbors <= n_samples,  but n_samples = 21, n_neighbors = 23\n",
            "\n",
            "  warnings.warn(\n"
          ]
        },
        {
          "output_type": "execute_result",
          "data": {
            "text/plain": [
              "1      4617.097573\n",
              "2      4355.105864\n",
              "3      5843.234122\n",
              "4      7221.134866\n",
              "5      7305.787587\n",
              "6      8131.759206\n",
              "7      8728.200347\n",
              "8      9845.574943\n",
              "9     10505.962237\n",
              "10    11112.529272\n",
              "11    11464.118410\n",
              "12    11786.671702\n",
              "13    11988.695356\n",
              "14    12444.433893\n",
              "15    12767.654952\n",
              "16    12960.913127\n",
              "17    13316.102688\n",
              "18    13615.891875\n",
              "19    14082.915570\n",
              "20    14581.603740\n",
              "21             NaN\n",
              "22             NaN\n",
              "23             NaN\n",
              "dtype: float64"
            ]
          },
          "metadata": {},
          "execution_count": 140
        }
      ]
    },
    {
      "cell_type": "code",
      "source": [
        "training_errors_series = pd.Series(training_errors)\n",
        "test_errors_series = pd.Series(test_errors)\n",
        "\n",
        "ax = training_errors_series.plot.line()\n",
        "test_errors_series.plot.line(ax=ax)\n",
        "ax.set_xlabel(\"k\")\n",
        "ax.set_ylabel(\"RMSE\")"
      ],
      "metadata": {
        "colab": {
          "base_uri": "https://localhost:8080/",
          "height": 466
        },
        "id": "IOlMiOUiM1qP",
        "outputId": "d87db77d-808b-4214-bd6b-9d2d52a6d87d"
      },
      "execution_count": 141,
      "outputs": [
        {
          "output_type": "execute_result",
          "data": {
            "text/plain": [
              "Text(0, 0.5, 'RMSE')"
            ]
          },
          "metadata": {},
          "execution_count": 141
        },
        {
          "output_type": "display_data",
          "data": {
            "text/plain": [
              "<Figure size 640x480 with 1 Axes>"
            ],
            "image/png": "[encoded data removed]"
          },
          "metadata": {}
        }
      ]
    },
    {
      "cell_type": "markdown",
      "source": [
        "How does training error change as  k  decreases? Why does this make sense?\n",
        "Training error only decreases as  k  decreases. In the extreme case where  k=1 , the training error is 0 because the nearest observation is itself.\n",
        "In practice the training error is not 0 when  k=1  because there are many houses with the exact same features (so many houses with a distance of 0).\n",
        "How does test error change as  k  changes?\n",
        "Test error decreases for a while, then starts to increase.\n",
        "What is the best value of  k ?\n",
        "The best value of  k  is the sweet spot where the test error is minimized."
      ],
      "metadata": {
        "id": "JbsVo0EeNofj"
      }
    },
    {
      "cell_type": "code",
      "source": [
        "#Best K?\n",
        "ideal_k = test_errors.idxmin()\n",
        "ideal_k"
      ],
      "metadata": {
        "colab": {
          "base_uri": "https://localhost:8080/"
        },
        "id": "B0Lt10kSNaHQ",
        "outputId": "4b42e2ad-3680-4e6a-ed64-b7d4e8c703cd"
      },
      "execution_count": 142,
      "outputs": [
        {
          "output_type": "execute_result",
          "data": {
            "text/plain": [
              "2"
            ]
          },
          "metadata": {},
          "execution_count": 142
        }
      ]
    },
    {
      "cell_type": "markdown",
      "source": [
        "Our best K prediction is 2"
      ],
      "metadata": {
        "id": "jAvERQU0Nq7N"
      }
    },
    {
      "cell_type": "markdown",
      "source": [
        "We carried Hyper-Parameter tuning\n"
      ],
      "metadata": {
        "id": "KtKE6aHXN52_"
      }
    },
    {
      "cell_type": "code",
      "source": [
        "X_train = DC[[\"Total nominal food sales per capita\", \"AVG_EduCom_CPI\", \"AVG_furnish_CPI\", \"AVG_rec_CPI\", \"AVG_Rent_CPI\", \"AVG_trans_CPI\", \"AVG_utilities_CPI\"]] #Training data features\n",
        "y_train = DC[\"income\"]"
      ],
      "metadata": {
        "id": "s1XvRIm4N9Sf"
      },
      "execution_count": 143,
      "outputs": []
    },
    {
      "cell_type": "code",
      "source": [
        "from sklearn.pipeline import make_pipeline\n",
        "from sklearn.preprocessing import StandardScaler\n",
        "from sklearn.neighbors import KNeighborsRegressor\n",
        "import numpy as np\n",
        "pipeline = make_pipeline(\n",
        "    StandardScaler(),\n",
        "    KNeighborsRegressor(n_neighbors=5, metric=\"euclidean\"))\n",
        "X_train = DC[[\"Total nominal food sales per capita\", \"AVG_EduCom_CPI\", \"AVG_furnish_CPI\", \"AVG_rec_CPI\", \"AVG_Rent_CPI\", \"AVG_trans_CPI\", \"AVG_utilities_CPI\"]] #Training data features\n",
        "y_train = DC[\"income\"]\n",
        "from sklearn.model_selection import cross_val_score\n",
        "scores = cross_val_score(\n",
        "    pipeline,\n",
        "    X=X_train, y=y_train,\n",
        "    scoring=\"neg_mean_squared_error\",\n",
        "    cv=4)\n",
        "np.sqrt(-scores.mean())"
      ],
      "metadata": {
        "colab": {
          "base_uri": "https://localhost:8080/"
        },
        "id": "mtYCQ7VROR2o",
        "outputId": "2b91a500-3629-47ab-9bcb-f028a2412e2f"
      },
      "execution_count": 144,
      "outputs": [
        {
          "output_type": "execute_result",
          "data": {
            "text/plain": [
              "15290.61577678719"
            ]
          },
          "metadata": {},
          "execution_count": 144
        }
      ]
    },
    {
      "cell_type": "markdown",
      "source": [
        "On average, the model is off on the median house hold income by 15000 dollars (yikes!)"
      ],
      "metadata": {
        "id": "QNst4YGrOkUM"
      }
    },
    {
      "cell_type": "code",
      "source": [
        "from itertools import combinations\n",
        "from sklearn.model_selection import GridSearchCV, cross_val_score\n",
        "X = DC[[\"Total nominal food sales per capita\", \"AVG_EduCom_CPI\",\n",
        "        \"AVG_furnish_CPI\", \"AVG_rec_CPI\", \"AVG_Rent_CPI\",\n",
        "        \"AVG_trans_CPI\", \"AVG_utilities_CPI\"]]\n",
        "y = DC[\"income\"]\n",
        "scaler = StandardScaler()\n",
        "X_scaled = pd.DataFrame(scaler.fit_transform(X), columns=X.columns)\n",
        "k_range = range(1, 21)\n",
        "k_scores = {}\n",
        "for size in range(1, len(X.columns) + 1):\n",
        "    for features in combinations(X.columns, size):\n",
        "        knn = KNeighborsRegressor()\n",
        "        param_grid = {'n_neighbors': k_range}\n",
        "        grid_search = GridSearchCV(knn, param_grid, cv=10, scoring='neg_mean_squared_error')\n",
        "        grid_search.fit(X_scaled[list(features)], y)\n",
        "        k_scores[str(list(features))] = grid_search.best_score_\n",
        "best_features = max(k_scores, key=k_scores.get)\n",
        "best_score = k_scores[best_features]\n",
        "print(\"Best feature combination:\", best_features)\n",
        "print(\"Best score:\", best_score)"
      ],
      "metadata": {
        "colab": {
          "base_uri": "https://localhost:8080/"
        },
        "id": "hxD8bGpHQXVf",
        "outputId": "f713dc02-1b94-44da-b688-e77801a87376"
      },
      "execution_count": 145,
      "outputs": [
        {
          "output_type": "stream",
          "name": "stdout",
          "text": [
            "Best feature combination: ['AVG_Rent_CPI', 'AVG_utilities_CPI']\n",
            "Best score: -17808628.75\n"
          ]
        }
      ]
    },
    {
      "cell_type": "markdown",
      "source": [
        "We tested for the best features to use in our KNN model and the best score for the value of k_"
      ],
      "metadata": {
        "id": "9gRgKMz8RVDM"
      }
    },
    {
      "cell_type": "code",
      "source": [
        "for features in [[\"AVG_Rent_CPI\", \"AVG_utilities_CPI\"],\n",
        "                 [\"AVG_Rent_CPI\", \"AVG_utilities_CPI\",\"Total nominal food sales per capita\"],\n",
        "                 [\"AVG_Rent_CPI\", \"AVG_utilities_CPI\",\"Total nominal food sales per capita\",\"AVG_EduCom_CPI\"]]:\n",
        "  scores = cross_val_score(\n",
        "      pipeline,\n",
        "      X=DC[features],\n",
        "      y=DC[\"income\"],\n",
        "      scoring=\"neg_mean_squared_error\",\n",
        "      cv=4)\n",
        "  print(features, -scores.mean())"
      ],
      "metadata": {
        "colab": {
          "base_uri": "https://localhost:8080/"
        },
        "id": "FOXTyenwBXOw",
        "outputId": "d9b1339d-b255-469d-92e9-f2a34b63796d"
      },
      "execution_count": 146,
      "outputs": [
        {
          "output_type": "stream",
          "name": "stdout",
          "text": [
            "['AVG_Rent_CPI', 'AVG_utilities_CPI'] 127462546.83333334\n",
            "['AVG_Rent_CPI', 'AVG_utilities_CPI', 'Total nominal food sales per capita'] 211531414.2\n",
            "['AVG_Rent_CPI', 'AVG_utilities_CPI', 'Total nominal food sales per capita', 'AVG_EduCom_CPI'] 202923450.36666667\n"
          ]
        }
      ]
    },
    {
      "cell_type": "markdown",
      "source": [
        "Based on the data above, we shall use ['AVG_Rent_CPI', 'AVG_utilities_CPI'] because it has the lowest score which means more accuracy."
      ],
      "metadata": {
        "id": "JmBDgZ6xO83e"
      }
    },
    {
      "cell_type": "code",
      "source": [
        "#Based on what we learnt from above (previous) code, we see that the best features to use are ['AVG_Rent_CPI', 'AVG_utilities_CPI'].\n",
        "X_train = DC[[\"AVG_Rent_CPI\", \"AVG_utilities_CPI\"]]\n",
        "test_mses = []\n",
        "for k in range(1, 7):\n",
        "  pipeline = make_pipeline(\n",
        "      StandardScaler(),\n",
        "      KNeighborsRegressor(n_neighbors=k, metric = \"euclidean\")\n",
        "  )\n",
        "  scores = cross_val_score(\n",
        "      pipeline,\n",
        "      X_train,\n",
        "      y_train,\n",
        "      scoring = \"neg_mean_squared_error\",\n",
        "      cv=4\n",
        "  )\n",
        "  avg = -1 * (scores.mean())\n",
        "\n",
        "  test_mses.append(avg)\n",
        "test_mses"
      ],
      "metadata": {
        "colab": {
          "base_uri": "https://localhost:8080/"
        },
        "id": "-im_wFooScY5",
        "outputId": "0e8439e7-73f7-4b53-b431-6961f23b8968"
      },
      "execution_count": 147,
      "outputs": [
        {
          "output_type": "execute_result",
          "data": {
            "text/plain": [
              "[69401540.0,\n",
              " 68428785.20833333,\n",
              " 105942829.53703707,\n",
              " 105983669.63541667,\n",
              " 127462546.83333334,\n",
              " 141558253.6574074]"
            ]
          },
          "metadata": {},
          "execution_count": 147
        }
      ]
    },
    {
      "cell_type": "code",
      "source": [
        "line_plot = pd.Series(test_mses, index=range(1, 7)).plot.line()\n",
        "line_plot.set_xlabel(\"k\")\n",
        "line_plot.set_ylabel(\"Test RMSE\")"
      ],
      "metadata": {
        "colab": {
          "base_uri": "https://localhost:8080/",
          "height": 482
        },
        "id": "pLXOaW3TSzg6",
        "outputId": "912dbf35-8741-4d48-b1fa-3626ff763956"
      },
      "execution_count": 148,
      "outputs": [
        {
          "output_type": "execute_result",
          "data": {
            "text/plain": [
              "Text(0, 0.5, 'Test RMSE')"
            ]
          },
          "metadata": {},
          "execution_count": 148
        },
        {
          "output_type": "display_data",
          "data": {
            "text/plain": [
              "<Figure size 640x480 with 1 Axes>"
            ],
            "image/png": "[encoded data removed]"
          },
          "metadata": {}
        }
      ]
    },
    {
      "cell_type": "code",
      "source": [
        "#Looking for training accuracy\n",
        "from sklearn.neighbors import KNeighborsClassifier\n",
        "\n",
        "X_train = DC[[ \"AVG_Rent_CPI\", \"AVG_utilities_CPI\"]]\n",
        "y_train = DC[\"income\"]\n",
        "\n",
        "model = KNeighborsClassifier(n_neighbors=10)\n",
        "model.fit(X_train, y_train)\n",
        "y_train_ = model.predict(X_train)\n",
        "\n",
        "# training accuracy\n",
        "(y_train == y_train_).mean()"
      ],
      "metadata": {
        "id": "H1BiwSoKhF4e",
        "colab": {
          "base_uri": "https://localhost:8080/"
        },
        "outputId": "12c2b88a-2144-4958-be28-e48c376846b3"
      },
      "execution_count": 149,
      "outputs": [
        {
          "output_type": "execute_result",
          "data": {
            "text/plain": [
              "0.043478260869565216"
            ]
          },
          "metadata": {},
          "execution_count": 149
        }
      ]
    },
    {
      "cell_type": "markdown",
      "source": [
        "the accuracy of 4.3% is not good enough for prediction."
      ],
      "metadata": {
        "id": "MDPN0aOnUYso"
      }
    },
    {
      "cell_type": "markdown",
      "source": [],
      "metadata": {
        "id": "OaDfAL9dMZFb"
      }
    },
    {
      "cell_type": "code",
      "source": [
        "#KNN training\n",
        "from sklearn.model_selection import train_test_split\n",
        "from sklearn.metrics import r2_score\n",
        "\n",
        "X_train, X_test, y_train, y_test = train_test_split(X, y, test_size=0.2, random_state=42)\n",
        "\n",
        "X = DC[[\"Total nominal food sales per capita\", \"AVG_EduCom_CPI\",\n",
        "        \"AVG_furnish_CPI\", \"AVG_rec_CPI\", \"AVG_Rent_CPI\",\n",
        "        \"AVG_trans_CPI\", \"AVG_utilities_CPI\"]]\n",
        "y = DC[\"income\"]\n",
        "X_train, X_test, y_train, y_test = train_test_split(X, y, test_size=0.2, random_state=42)\n",
        "\n",
        "scaler = StandardScaler()\n",
        "X_train_scaled = scaler.fit_transform(X_train)\n",
        "X_test_scaled = scaler.transform(X_test)\n",
        "k = 1\n",
        "knn_model = KNeighborsRegressor(n_neighbors=k)\n",
        "knn_model.fit(X_train_scaled, y_train)\n",
        "\n",
        "y_pred = knn_model.predict(X_test_scaled)\n",
        "mse = mean_squared_error(y_test, y_pred)\n",
        "r2 = r2_score(y_test, y_pred)\n",
        "\n",
        "print(\"Mean Squared Error (MSE) on testing data:\", mse)\n",
        "print(\"R-squared on testing data:\", r2)"
      ],
      "metadata": {
        "colab": {
          "base_uri": "https://localhost:8080/"
        },
        "id": "lfBJy6ETlEXr",
        "outputId": "5652aa7b-0fb7-4e2a-a3bf-1c8eb2a50a41"
      },
      "execution_count": 150,
      "outputs": [
        {
          "output_type": "stream",
          "name": "stdout",
          "text": [
            "Mean Squared Error (MSE) on testing data: 27042160.0\n",
            "R-squared on testing data: 0.6724508073491129\n"
          ]
        }
      ]
    },
    {
      "cell_type": "code",
      "source": [
        "from sklearn.model_selection import GridSearchCV\n",
        "k_range = range(1, 21)\n",
        "distance_metrics = ['euclidean', 'manhattan', 'chebyshev', 'minkowski']\n",
        "param_grid = {\n",
        "    'n_neighbors': k_range,\n",
        "    'metric': distance_metrics\n",
        "}\n",
        "\n",
        "knn = KNeighborsRegressor()\n",
        "grid_search = GridSearchCV(knn, param_grid, cv=10, scoring='neg_mean_squared_error')\n",
        "\n",
        "grid_search.fit(X_scaled, y)\n",
        "best_params = grid_search.best_params_\n",
        "best_score = -grid_search.best_score_\n",
        "\n",
        "print(\"Best parameters:\", best_params)\n",
        "print(\"Best score:\", best_score)"
      ],
      "metadata": {
        "colab": {
          "base_uri": "https://localhost:8080/"
        },
        "id": "SE2lk6qTqy03",
        "outputId": "4ad7b7bb-d2e0-4db1-901a-43b17291e4d5"
      },
      "execution_count": 151,
      "outputs": [
        {
          "output_type": "stream",
          "name": "stdout",
          "text": [
            "Best parameters: {'metric': 'euclidean', 'n_neighbors': 2}\n",
            "Best score: 18171928.333333332\n"
          ]
        }
      ]
    },
    {
      "cell_type": "code",
      "source": [
        "from sklearn.metrics import mean_absolute_error\n",
        "from sklearn.model_selection import train_test_split\n",
        "X_train, X_test, y_train, y_test = train_test_split(X_scaled, y, test_size=0.2, random_state=42)\n",
        "\n",
        "knn = KNeighborsRegressor(metric=\"euclidean\")\n",
        "knn.fit(X_train, y_train)\n",
        "y_pred = knn.predict(X_test)\n",
        "\n",
        "mae = mean_absolute_error(y_test, y_pred)\n",
        "print(\"Mean Absolute Error on Test Data:\", mae)"
      ],
      "metadata": {
        "colab": {
          "base_uri": "https://localhost:8080/"
        },
        "id": "xkOKHVpnsQ5o",
        "outputId": "b972c782-bf26-4887-b190-f3eca6b21817"
      },
      "execution_count": 152,
      "outputs": [
        {
          "output_type": "stream",
          "name": "stdout",
          "text": [
            "Mean Absolute Error on Test Data: 4230.4\n"
          ]
        }
      ]
    },
    {
      "cell_type": "markdown",
      "source": [
        "Calculated the best parameters to use for the KNN model. Found best metric and knn neighbors."
      ],
      "metadata": {
        "id": "a8v2nNkVXZpq"
      }
    },
    {
      "cell_type": "code",
      "source": [
        "import pandas as pd\n",
        "from sklearn.preprocessing import StandardScaler\n",
        "from sklearn.neighbors import KNeighborsRegressor\n",
        "from sklearn.model_selection import cross_val_score\n",
        "\n",
        "# Assuming you have a DataFrame called df containing your data\n",
        "X = DC[[ \"AVG_Rent_CPI\", \"AVG_utilities_CPI\"]]\n",
        "y = DC[\"income\"]\n",
        "scaler = StandardScaler()\n",
        "X_scaled = pd.DataFrame(scaler.fit_transform(X), columns=X.columns)\n",
        "\n",
        "knn = KNeighborsRegressor()\n",
        "scores = cross_val_score(knn, X_scaled, y, cv=10, scoring='neg_mean_squared_error')\n",
        "mse_cv = -scores.mean()\n",
        "\n",
        "print(\"Mean Squared Error from Cross-Validation:\", mse_cv)"
      ],
      "metadata": {
        "colab": {
          "base_uri": "https://localhost:8080/"
        },
        "id": "cE6546fbtbYr",
        "outputId": "4bd87d16-a804-462e-9f02-5126ac1ca27d"
      },
      "execution_count": 153,
      "outputs": [
        {
          "output_type": "stream",
          "name": "stdout",
          "text": [
            "Mean Squared Error from Cross-Validation: 30446985.6\n"
          ]
        }
      ]
    },
    {
      "cell_type": "code",
      "source": [
        "import numpy as np\n",
        "# Converted MSE to RMSE\n",
        "rmse_cv = np.sqrt(mse_cv)\n",
        "\n",
        "print(\"Root Mean Squared Error from Cross-Validation:\", rmse_cv)"
      ],
      "metadata": {
        "colab": {
          "base_uri": "https://localhost:8080/"
        },
        "id": "RV8sKt4i0tQO",
        "outputId": "ab6523de-8347-4ab5-dc95-784115e67f71"
      },
      "execution_count": 154,
      "outputs": [
        {
          "output_type": "stream",
          "name": "stdout",
          "text": [
            "Root Mean Squared Error from Cross-Validation: 5517.878722842684\n"
          ]
        }
      ]
    },
    {
      "cell_type": "markdown",
      "source": [
        "We used historical data from our data set to predict the median household income for the future."
      ],
      "metadata": {
        "id": "1wGpSNF5YPk8"
      }
    },
    {
      "cell_type": "code",
      "source": [
        "average_growth_rate = (y.iloc[-1] - y[0]) / len(y)\n",
        "projected_income = []\n",
        "for i in range(2025, 2036):\n",
        "    projected_income.append(y.iloc[-1] + (i - 2024) * average_growth_rate)\n",
        "for year, income in zip(range(2025, 2036), projected_income):\n",
        "    print(f\"Projected Income for {year}: {income}\")"
      ],
      "metadata": {
        "colab": {
          "base_uri": "https://localhost:8080/"
        },
        "id": "-MaOQf-INkPS",
        "outputId": "d2b50d1c-178c-4126-b80a-74cd49b4070f"
      },
      "execution_count": 155,
      "outputs": [
        {
          "output_type": "stream",
          "name": "stdout",
          "text": [
            "Projected Income for 2025: 101296.95652173914\n",
            "Projected Income for 2026: 103153.91304347826\n",
            "Projected Income for 2027: 105010.86956521739\n",
            "Projected Income for 2028: 106867.82608695653\n",
            "Projected Income for 2029: 108724.78260869565\n",
            "Projected Income for 2030: 110581.73913043478\n",
            "Projected Income for 2031: 112438.69565217392\n",
            "Projected Income for 2032: 114295.65217391304\n",
            "Projected Income for 2033: 116152.60869565218\n",
            "Projected Income for 2034: 118009.5652173913\n",
            "Projected Income for 2035: 119866.52173913043\n"
          ]
        }
      ]
    },
    {
      "cell_type": "code",
      "source": [
        "import matplotlib.pyplot as plt\n",
        "years = list(range(2025, 2036))\n",
        "incomes = [\n",
        "    101296.95652173914, 103153.91304347826, 105010.86956521739,\n",
        "    106867.82608695653, 108724.78260869565, 110581.73913043478,\n",
        "    112438.69565217392, 114295.65217391304, 116152.60869565218,\n",
        "    118009.5652173913, 119866.52173913043\n",
        "]\n",
        "plt.figure(figsize=(10, 6))\n",
        "plt.plot(years, incomes, marker='o', linestyle='-')\n",
        "plt.xlabel('Year')\n",
        "plt.ylabel('Projected Income')\n",
        "plt.title('Projected Income from 2025 to 2035')\n",
        "plt.grid(True)\n",
        "plt.tight_layout()\n",
        "plt.show()\n"
      ],
      "metadata": {
        "colab": {
          "base_uri": "https://localhost:8080/",
          "height": 607
        },
        "id": "1Q8zfgMb2N91",
        "outputId": "20e4a2a5-9858-4bba-dec8-c97c84d18d65"
      },
      "execution_count": 156,
      "outputs": [
        {
          "output_type": "display_data",
          "data": {
            "text/plain": [
              "<Figure size 1000x600 with 1 Axes>"
            ],
            "image/png": "[encoded data removed]"
          },
          "metadata": {}
        }
      ]
    },
    {
      "cell_type": "code",
      "source": [
        "import matplotlib.pyplot as plt\n",
        "\n",
        "plt.plot(DC['Year'], DC['income'], label='Historical Income', color='blue', marker='o')"
      ],
      "metadata": {
        "colab": {
          "base_uri": "https://localhost:8080/",
          "height": 447
        },
        "id": "QQUnbmBjRUK4",
        "outputId": "79759c99-d384-48ba-c718-b7a9c271aa04"
      },
      "execution_count": 157,
      "outputs": [
        {
          "output_type": "execute_result",
          "data": {
            "text/plain": [
              "[<matplotlib.lines.Line2D at 0x786a3c1e9300>]"
            ]
          },
          "metadata": {},
          "execution_count": 157
        },
        {
          "output_type": "display_data",
          "data": {
            "text/plain": [
              "<Figure size 640x480 with 1 Axes>"
            ],
            "image/png": "[encoded data removed]"
          },
          "metadata": {}
        }
      ]
    },
    {
      "cell_type": "markdown",
      "source": [
        "LINEAR REGRESSION"
      ],
      "metadata": {
        "id": "zeTrIyqoM9Si"
      }
    },
    {
      "cell_type": "code",
      "source": [
        "candidate_features = [\n",
        "    \"Total nominal food sales per capita\", \"AVG_EduCom_CPI\", \"AVG_furnish_CPI\", \"AVG_rec_CPI\", \"AVG_Rent_CPI\", \"AVG_trans_CPI\", \"AVG_utilities_CPI\"]"
      ],
      "metadata": {
        "id": "mYrSXksZqRW7"
      },
      "execution_count": 158,
      "outputs": []
    },
    {
      "cell_type": "code",
      "source": [
        "from itertools import combinations\n",
        "\n",
        "listOfFeatureCombos = []\n",
        "for features in combinations(candidate_features, 4):\n",
        "  print(features)\n",
        "  list(features)\n"
      ],
      "metadata": {
        "id": "GP4YyQEOqdoB",
        "colab": {
          "base_uri": "https://localhost:8080/"
        },
        "outputId": "e5ecebd9-b9bf-4ccb-bb55-63ee9b56ec89"
      },
      "execution_count": 159,
      "outputs": [
        {
          "output_type": "stream",
          "name": "stdout",
          "text": [
            "('Total nominal food sales per capita', 'AVG_EduCom_CPI', 'AVG_furnish_CPI', 'AVG_rec_CPI')\n",
            "('Total nominal food sales per capita', 'AVG_EduCom_CPI', 'AVG_furnish_CPI', 'AVG_Rent_CPI')\n",
            "('Total nominal food sales per capita', 'AVG_EduCom_CPI', 'AVG_furnish_CPI', 'AVG_trans_CPI')\n",
            "('Total nominal food sales per capita', 'AVG_EduCom_CPI', 'AVG_furnish_CPI', 'AVG_utilities_CPI')\n",
            "('Total nominal food sales per capita', 'AVG_EduCom_CPI', 'AVG_rec_CPI', 'AVG_Rent_CPI')\n",
            "('Total nominal food sales per capita', 'AVG_EduCom_CPI', 'AVG_rec_CPI', 'AVG_trans_CPI')\n",
            "('Total nominal food sales per capita', 'AVG_EduCom_CPI', 'AVG_rec_CPI', 'AVG_utilities_CPI')\n",
            "('Total nominal food sales per capita', 'AVG_EduCom_CPI', 'AVG_Rent_CPI', 'AVG_trans_CPI')\n",
            "('Total nominal food sales per capita', 'AVG_EduCom_CPI', 'AVG_Rent_CPI', 'AVG_utilities_CPI')\n",
            "('Total nominal food sales per capita', 'AVG_EduCom_CPI', 'AVG_trans_CPI', 'AVG_utilities_CPI')\n",
            "('Total nominal food sales per capita', 'AVG_furnish_CPI', 'AVG_rec_CPI', 'AVG_Rent_CPI')\n",
            "('Total nominal food sales per capita', 'AVG_furnish_CPI', 'AVG_rec_CPI', 'AVG_trans_CPI')\n",
            "('Total nominal food sales per capita', 'AVG_furnish_CPI', 'AVG_rec_CPI', 'AVG_utilities_CPI')\n",
            "('Total nominal food sales per capita', 'AVG_furnish_CPI', 'AVG_Rent_CPI', 'AVG_trans_CPI')\n",
            "('Total nominal food sales per capita', 'AVG_furnish_CPI', 'AVG_Rent_CPI', 'AVG_utilities_CPI')\n",
            "('Total nominal food sales per capita', 'AVG_furnish_CPI', 'AVG_trans_CPI', 'AVG_utilities_CPI')\n",
            "('Total nominal food sales per capita', 'AVG_rec_CPI', 'AVG_Rent_CPI', 'AVG_trans_CPI')\n",
            "('Total nominal food sales per capita', 'AVG_rec_CPI', 'AVG_Rent_CPI', 'AVG_utilities_CPI')\n",
            "('Total nominal food sales per capita', 'AVG_rec_CPI', 'AVG_trans_CPI', 'AVG_utilities_CPI')\n",
            "('Total nominal food sales per capita', 'AVG_Rent_CPI', 'AVG_trans_CPI', 'AVG_utilities_CPI')\n",
            "('AVG_EduCom_CPI', 'AVG_furnish_CPI', 'AVG_rec_CPI', 'AVG_Rent_CPI')\n",
            "('AVG_EduCom_CPI', 'AVG_furnish_CPI', 'AVG_rec_CPI', 'AVG_trans_CPI')\n",
            "('AVG_EduCom_CPI', 'AVG_furnish_CPI', 'AVG_rec_CPI', 'AVG_utilities_CPI')\n",
            "('AVG_EduCom_CPI', 'AVG_furnish_CPI', 'AVG_Rent_CPI', 'AVG_trans_CPI')\n",
            "('AVG_EduCom_CPI', 'AVG_furnish_CPI', 'AVG_Rent_CPI', 'AVG_utilities_CPI')\n",
            "('AVG_EduCom_CPI', 'AVG_furnish_CPI', 'AVG_trans_CPI', 'AVG_utilities_CPI')\n",
            "('AVG_EduCom_CPI', 'AVG_rec_CPI', 'AVG_Rent_CPI', 'AVG_trans_CPI')\n",
            "('AVG_EduCom_CPI', 'AVG_rec_CPI', 'AVG_Rent_CPI', 'AVG_utilities_CPI')\n",
            "('AVG_EduCom_CPI', 'AVG_rec_CPI', 'AVG_trans_CPI', 'AVG_utilities_CPI')\n",
            "('AVG_EduCom_CPI', 'AVG_Rent_CPI', 'AVG_trans_CPI', 'AVG_utilities_CPI')\n",
            "('AVG_furnish_CPI', 'AVG_rec_CPI', 'AVG_Rent_CPI', 'AVG_trans_CPI')\n",
            "('AVG_furnish_CPI', 'AVG_rec_CPI', 'AVG_Rent_CPI', 'AVG_utilities_CPI')\n",
            "('AVG_furnish_CPI', 'AVG_rec_CPI', 'AVG_trans_CPI', 'AVG_utilities_CPI')\n",
            "('AVG_furnish_CPI', 'AVG_Rent_CPI', 'AVG_trans_CPI', 'AVG_utilities_CPI')\n",
            "('AVG_rec_CPI', 'AVG_Rent_CPI', 'AVG_trans_CPI', 'AVG_utilities_CPI')\n"
          ]
        }
      ]
    },
    {
      "cell_type": "code",
      "source": [
        "\n",
        "features = [\"Total nominal food sales per capita\", \"AVG_EduCom_CPI\", \"AVG_furnish_CPI\", \"AVG_rec_CPI\", \"AVG_Rent_CPI\", \"AVG_trans_CPI\", \"AVG_utilities_CPI\"]\n",
        "target = \"income\"\n",
        "X_train, X_test, y_train, y_test = train_test_split(DC[features], DC[target], test_size=0.2, random_state=42)\n",
        "scaler = StandardScaler()\n",
        "X_train_scaled = scaler.fit_transform(X_train)\n",
        "X_test_scaled = scaler.transform(X_test)\n",
        "model = LinearRegression()\n",
        "\n",
        "model.fit(X_train_scaled, y_train)\n",
        "\n",
        "y_pred = model.predict(X_test_scaled)\n",
        "\n",
        "mae = mean_absolute_error(y_test, y_pred)\n",
        "mse = mean_squared_error(y_test, y_pred)\n",
        "rmse = np.sqrt(mse)\n",
        "\n",
        "print(\"Mean Absolute Error:\", mae)\n",
        "print(\"Mean Squared Error:\", mse)\n",
        "print(\"Root Mean Squared Error:\", rmse)"
      ],
      "metadata": {
        "id": "sfcaPBrUI9KD",
        "colab": {
          "base_uri": "https://localhost:8080/"
        },
        "outputId": "06fdf9ec-9e47-44be-d22b-e968e3be699b"
      },
      "execution_count": 160,
      "outputs": [
        {
          "output_type": "stream",
          "name": "stdout",
          "text": [
            "Mean Absolute Error: 4778.28102646041\n",
            "Mean Squared Error: 36168360.534100465\n",
            "Root Mean Squared Error: 6014.013679241216\n"
          ]
        }
      ]
    },
    {
      "cell_type": "code",
      "source": [
        "from sklearn.feature_selection import SelectKBest, f_regression\n",
        "\n",
        "# Performed univariate feature selection using ANOVA F-test\n",
        "selector = SelectKBest(score_func=f_regression, k=3)\n",
        "X_selected = selector.fit_transform(X_train_scaled, y_train)\n",
        "\n",
        "selected_feature_indices = selector.get_support(indices=True)\n",
        "# Got names of selected features\n",
        "selected_features = [features[i] for i in selected_feature_indices]\n",
        "print(\"Selected Features:\", selected_features)\n"
      ],
      "metadata": {
        "colab": {
          "base_uri": "https://localhost:8080/"
        },
        "id": "tUqu87g8CAn9",
        "outputId": "b63b620c-9a30-494f-d0f2-cd4ff0dddb43"
      },
      "execution_count": 161,
      "outputs": [
        {
          "output_type": "stream",
          "name": "stdout",
          "text": [
            "Selected Features: ['AVG_EduCom_CPI', 'AVG_furnish_CPI', 'AVG_Rent_CPI']\n"
          ]
        }
      ]
    },
    {
      "cell_type": "code",
      "source": [
        "import pandas as pd\n",
        "import numpy as np\n",
        "import matplotlib.pyplot as plt\n",
        "from sklearn.linear_model import LinearRegression\n",
        "from statsmodels.tsa.arima.model import ARIMA\n",
        "\n",
        "plt.figure(figsize=(10, 6))\n",
        "plt.plot(DC['Year'], DC['income'], marker='o', linestyle='-')\n",
        "plt.title('Historical Income Data')\n",
        "plt.xlabel('Year')\n",
        "plt.ylabel('Income')\n",
        "plt.grid(True)\n",
        "plt.show()\n",
        "\n",
        "\n",
        "model_trend = LinearRegression()\n",
        "model_trend.fit(DC[['Year']], DC['income'])\n",
        "trend_line = model_trend.predict(DC[['Year']])\n",
        "\n",
        "plt.figure(figsize=(10, 6))\n",
        "plt.plot(DC['Year'], DC['income'], marker='o', linestyle='-', label='Historical Data')\n",
        "plt.plot(DC['Year'], trend_line, linestyle='--', color='red', label='Trend Line')\n",
        "plt.title('Trend Analysis: Historical Income Data with Trend Line')\n",
        "plt.xlabel('Year')\n",
        "plt.ylabel('Income')\n",
        "plt.legend()\n",
        "plt.grid(True)\n",
        "plt.show()\n",
        "\n",
        "train_data = DC[['Year', 'income']].tail(10)\n",
        "model_arima = ARIMA(train_data['income'], order=(1,1,1))\n",
        "model\n",
        "model_arima_fit = model_arima.fit()\n",
        "\n",
        "\n",
        "future_years = np.arange(train_data['Year'].max() + 1, train_data['Year'].max() + 11)\n",
        "future_income_forecast = model_arima_fit.forecast(steps=10)\n",
        "\n",
        "\n",
        "plt.figure(figsize=(10, 6))\n",
        "plt.plot(train_data['Year'], train_data['income'], marker='o', linestyle='-', label='Historical Data')\n",
        "plt.plot(future_years, future_income_forecast, marker='o', linestyle='--', color='red', label='Forecast')\n",
        "plt.title('Time Series Forecasting: Forecasted Income Data')\n",
        "plt.xlabel('Year')\n",
        "plt.ylabel('Income')\n",
        "plt.legend()\n",
        "plt.grid(True)\n",
        "plt.show()\n",
        "\n",
        "\n",
        "\n"
      ],
      "metadata": {
        "colab": {
          "base_uri": "https://localhost:8080/",
          "height": 1000
        },
        "id": "niX0jnGICE_U",
        "outputId": "80e5ce66-c2ee-4fae-aa61-a95d866a6e8f"
      },
      "execution_count": 162,
      "outputs": [
        {
          "output_type": "display_data",
          "data": {
            "text/plain": [
              "<Figure size 1000x600 with 1 Axes>"
            ],
            "image/png": "[encoded data removed]"
          },
          "metadata": {}
        },
        {
          "output_type": "display_data",
          "data": {
            "text/plain": [
              "<Figure size 1000x600 with 1 Axes>"
            ],
            "image/png": "[encoded data removed]"
          },
          "metadata": {}
        },
        {
          "output_type": "display_data",
          "data": {
            "text/plain": [
              "<Figure size 1000x600 with 1 Axes>"
            ],
            "image/png": "[encoded data removed]"
          },
          "metadata": {}
        }
      ]
    },
    {
      "cell_type": "code",
      "source": [
        "\n",
        "plt.figure(figsize=(10, 6))\n",
        "plt.plot(DC['Year'], DC['income'], marker='o', linestyle='-')\n",
        "plt.title('Historical Income Data')\n",
        "plt.xlabel('Year')\n",
        "plt.ylabel('Income')\n",
        "plt.grid(True)\n",
        "plt.show()\n",
        "model = LinearRegression()\n",
        "model.fit(DC[['Year']], DC['income'])\n",
        "\n",
        "future_years = np.arange(2025, 2036).reshape(-1, 1)\n",
        "future_income_pred = model.predict(future_years)\n",
        "\n",
        "plt.figure(figsize=(10, 6))\n",
        "plt.plot(DC['Year'], DC['income'], marker='o', linestyle='-', label='Historical Data')\n",
        "plt.plot(future_years, future_income_pred, marker='o', linestyle='--', color='red', label='Predicted Income')\n",
        "plt.title('Predicted Income based on Linear Trend')\n",
        "plt.xlabel('Year')\n",
        "plt.ylabel('Income')\n",
        "plt.legend()\n",
        "plt.grid(True)\n",
        "plt.show()\n"
      ],
      "metadata": {
        "colab": {
          "base_uri": "https://localhost:8080/",
          "height": 1000
        },
        "id": "IxZ4rJzKEsFh",
        "outputId": "4f3f45e4-269f-4e5e-c1b2-312f92663de3"
      },
      "execution_count": 163,
      "outputs": [
        {
          "output_type": "display_data",
          "data": {
            "text/plain": [
              "<Figure size 1000x600 with 1 Axes>"
            ],
            "image/png": "[encoded data removed]"
          },
          "metadata": {}
        },
        {
          "output_type": "stream",
          "name": "stderr",
          "text": [
            "/usr/local/lib/python3.10/dist-packages/sklearn/base.py:439: UserWarning: X does not have valid feature names, but LinearRegression was fitted with feature names\n",
            "  warnings.warn(\n"
          ]
        },
        {
          "output_type": "display_data",
          "data": {
            "text/plain": [
              "<Figure size 1000x600 with 1 Axes>"
            ],
            "image/png": "[encoded data removed]"
          },
          "metadata": {}
        }
      ]
    },
    {
      "cell_type": "code",
      "source": [
        "import statsmodels.api as sm"
      ],
      "metadata": {
        "id": "WowNy53EyJPX"
      },
      "execution_count": 164,
      "outputs": []
    },
    {
      "cell_type": "code",
      "source": [
        "X_train_sm = sm.add_constant(X_train)"
      ],
      "metadata": {
        "id": "4sUqHB0GyfNX"
      },
      "execution_count": 165,
      "outputs": []
    },
    {
      "cell_type": "code",
      "source": [
        "X_train_sm"
      ],
      "metadata": {
        "colab": {
          "base_uri": "https://localhost:8080/",
          "height": 614
        },
        "id": "Qud8vAxHyw28",
        "outputId": "a3a409c3-df82-458d-eff0-1126b80221f7"
      },
      "execution_count": 166,
      "outputs": [
        {
          "output_type": "execute_result",
          "data": {
            "text/plain": [
              "    const  Total nominal food sales per capita  AVG_EduCom_CPI  \\\n",
              "12    1.0                              5221.77      139.607667   \n",
              "1     1.0                              5208.00      103.433333   \n",
              "13    1.0                              5342.97      142.073167   \n",
              "5     1.0                              4436.91      113.683333   \n",
              "2     1.0                              5018.76      104.783333   \n",
              "11    1.0                              5712.22      135.140167   \n",
              "20    1.0                              5842.80      153.782833   \n",
              "3     1.0                              4703.44      108.650000   \n",
              "4     1.0                              4594.10      112.233333   \n",
              "18    1.0                              5343.06      156.782167   \n",
              "16    1.0                              5244.55      150.066667   \n",
              "21    1.0                              5993.48      150.580000   \n",
              "22    1.0                              5296.99      154.233167   \n",
              "7     1.0                              5546.50      118.766667   \n",
              "10    1.0                              6353.43      131.764667   \n",
              "14    1.0                              5244.18      145.028667   \n",
              "19    1.0                              5549.05      154.189833   \n",
              "6     1.0                              5065.42      114.316667   \n",
              "\n",
              "    AVG_furnish_CPI  AVG_rec_CPI  AVG_Rent_CPI  AVG_trans_CPI  \\\n",
              "12       117.396500   116.106167    293.471000     197.695167   \n",
              "1        124.000000   101.983333    179.975000     145.816667   \n",
              "13       111.100167   114.662167    302.248500     216.205500   \n",
              "5        134.466667   109.733333    223.925000     161.333333   \n",
              "2        125.433333   102.716667    187.175000     157.216667   \n",
              "11       121.593000   113.945000    287.072750     181.524500   \n",
              "20       104.279167   116.575500    359.168583     217.053667   \n",
              "3        128.450000   102.950000    200.566667     158.866667   \n",
              "4        131.866667   105.183333    213.525000     155.766667   \n",
              "18       101.626667   117.904500    341.821333     203.658667   \n",
              "16       105.559333   117.616500    328.544500     226.445833   \n",
              "21       109.878000   117.973167    366.418417     215.906500   \n",
              "22       110.673833   113.920333    376.856833     209.285167   \n",
              "7        129.966667   109.300000    242.433333     178.416667   \n",
              "10       121.068500   114.938833    276.350667     202.705333   \n",
              "14       110.404000   115.112833    314.175500     220.675167   \n",
              "19       101.474000   111.991167    349.923250     209.877167   \n",
              "6        134.750000   108.966667    232.008333     166.283333   \n",
              "\n",
              "    AVG_utilities_CPI  \n",
              "12         216.698833  \n",
              "1          136.050000  \n",
              "13         215.137333  \n",
              "5          148.116667  \n",
              "2          142.666667  \n",
              "11         216.975000  \n",
              "20         226.323167  \n",
              "3          142.716667  \n",
              "4          139.433333  \n",
              "18         222.498667  \n",
              "16         221.316000  \n",
              "21         237.671833  \n",
              "22         237.174667  \n",
              "7          172.533333  \n",
              "10         219.870333  \n",
              "14         210.786833  \n",
              "19         233.925667  \n",
              "6          155.933333  "
            ],
            "text/html": [
              "\n",
              "  <div id=\"df-a77395cf-20df-4995-909a-25d73448f0be\" class=\"colab-df-container\">\n",
              "    <div>\n",
              "<style scoped>\n",
              "    .dataframe tbody tr th:only-of-type {\n",
              "        vertical-align: middle;\n",
              "    }\n",
              "\n",
              "    .dataframe tbody tr th {\n",
              "        vertical-align: top;\n",
              "    }\n",
              "\n",
              "    .dataframe thead th {\n",
              "        text-align: right;\n",
              "    }\n",
              "</style>\n",
              "<table border=\"1\" class=\"dataframe\">\n",
              "  <thead>\n",
              "    <tr style=\"text-align: right;\">\n",
              "      <th></th>\n",
              "      <th>const</th>\n",
              "      <th>Total nominal food sales per capita</th>\n",
              "      <th>AVG_EduCom_CPI</th>\n",
              "      <th>AVG_furnish_CPI</th>\n",
              "      <th>AVG_rec_CPI</th>\n",
              "      <th>AVG_Rent_CPI</th>\n",
              "      <th>AVG_trans_CPI</th>\n",
              "      <th>AVG_utilities_CPI</th>\n",
              "    </tr>\n",
              "  </thead>\n",
              "  <tbody>\n",
              "    <tr>\n",
              "      <th>12</th>\n",
              "      <td>1.0</td>\n",
              "      <td>5221.77</td>\n",
              "      <td>139.607667</td>\n",
              "      <td>117.396500</td>\n",
              "      <td>116.106167</td>\n",
              "      <td>293.471000</td>\n",
              "      <td>197.695167</td>\n",
              "      <td>216.698833</td>\n",
              "    </tr>\n",
              "    <tr>\n",
              "      <th>1</th>\n",
              "      <td>1.0</td>\n",
              "      <td>5208.00</td>\n",
              "      <td>103.433333</td>\n",
              "      <td>124.000000</td>\n",
              "      <td>101.983333</td>\n",
              "      <td>179.975000</td>\n",
              "      <td>145.816667</td>\n",
              "      <td>136.050000</td>\n",
              "    </tr>\n",
              "    <tr>\n",
              "      <th>13</th>\n",
              "      <td>1.0</td>\n",
              "      <td>5342.97</td>\n",
              "      <td>142.073167</td>\n",
              "      <td>111.100167</td>\n",
              "      <td>114.662167</td>\n",
              "      <td>302.248500</td>\n",
              "      <td>216.205500</td>\n",
              "      <td>215.137333</td>\n",
              "    </tr>\n",
              "    <tr>\n",
              "      <th>5</th>\n",
              "      <td>1.0</td>\n",
              "      <td>4436.91</td>\n",
              "      <td>113.683333</td>\n",
              "      <td>134.466667</td>\n",
              "      <td>109.733333</td>\n",
              "      <td>223.925000</td>\n",
              "      <td>161.333333</td>\n",
              "      <td>148.116667</td>\n",
              "    </tr>\n",
              "    <tr>\n",
              "      <th>2</th>\n",
              "      <td>1.0</td>\n",
              "      <td>5018.76</td>\n",
              "      <td>104.783333</td>\n",
              "      <td>125.433333</td>\n",
              "      <td>102.716667</td>\n",
              "      <td>187.175000</td>\n",
              "      <td>157.216667</td>\n",
              "      <td>142.666667</td>\n",
              "    </tr>\n",
              "    <tr>\n",
              "      <th>11</th>\n",
              "      <td>1.0</td>\n",
              "      <td>5712.22</td>\n",
              "      <td>135.140167</td>\n",
              "      <td>121.593000</td>\n",
              "      <td>113.945000</td>\n",
              "      <td>287.072750</td>\n",
              "      <td>181.524500</td>\n",
              "      <td>216.975000</td>\n",
              "    </tr>\n",
              "    <tr>\n",
              "      <th>20</th>\n",
              "      <td>1.0</td>\n",
              "      <td>5842.80</td>\n",
              "      <td>153.782833</td>\n",
              "      <td>104.279167</td>\n",
              "      <td>116.575500</td>\n",
              "      <td>359.168583</td>\n",
              "      <td>217.053667</td>\n",
              "      <td>226.323167</td>\n",
              "    </tr>\n",
              "    <tr>\n",
              "      <th>3</th>\n",
              "      <td>1.0</td>\n",
              "      <td>4703.44</td>\n",
              "      <td>108.650000</td>\n",
              "      <td>128.450000</td>\n",
              "      <td>102.950000</td>\n",
              "      <td>200.566667</td>\n",
              "      <td>158.866667</td>\n",
              "      <td>142.716667</td>\n",
              "    </tr>\n",
              "    <tr>\n",
              "      <th>4</th>\n",
              "      <td>1.0</td>\n",
              "      <td>4594.10</td>\n",
              "      <td>112.233333</td>\n",
              "      <td>131.866667</td>\n",
              "      <td>105.183333</td>\n",
              "      <td>213.525000</td>\n",
              "      <td>155.766667</td>\n",
              "      <td>139.433333</td>\n",
              "    </tr>\n",
              "    <tr>\n",
              "      <th>18</th>\n",
              "      <td>1.0</td>\n",
              "      <td>5343.06</td>\n",
              "      <td>156.782167</td>\n",
              "      <td>101.626667</td>\n",
              "      <td>117.904500</td>\n",
              "      <td>341.821333</td>\n",
              "      <td>203.658667</td>\n",
              "      <td>222.498667</td>\n",
              "    </tr>\n",
              "    <tr>\n",
              "      <th>16</th>\n",
              "      <td>1.0</td>\n",
              "      <td>5244.55</td>\n",
              "      <td>150.066667</td>\n",
              "      <td>105.559333</td>\n",
              "      <td>117.616500</td>\n",
              "      <td>328.544500</td>\n",
              "      <td>226.445833</td>\n",
              "      <td>221.316000</td>\n",
              "    </tr>\n",
              "    <tr>\n",
              "      <th>21</th>\n",
              "      <td>1.0</td>\n",
              "      <td>5993.48</td>\n",
              "      <td>150.580000</td>\n",
              "      <td>109.878000</td>\n",
              "      <td>117.973167</td>\n",
              "      <td>366.418417</td>\n",
              "      <td>215.906500</td>\n",
              "      <td>237.671833</td>\n",
              "    </tr>\n",
              "    <tr>\n",
              "      <th>22</th>\n",
              "      <td>1.0</td>\n",
              "      <td>5296.99</td>\n",
              "      <td>154.233167</td>\n",
              "      <td>110.673833</td>\n",
              "      <td>113.920333</td>\n",
              "      <td>376.856833</td>\n",
              "      <td>209.285167</td>\n",
              "      <td>237.174667</td>\n",
              "    </tr>\n",
              "    <tr>\n",
              "      <th>7</th>\n",
              "      <td>1.0</td>\n",
              "      <td>5546.50</td>\n",
              "      <td>118.766667</td>\n",
              "      <td>129.966667</td>\n",
              "      <td>109.300000</td>\n",
              "      <td>242.433333</td>\n",
              "      <td>178.416667</td>\n",
              "      <td>172.533333</td>\n",
              "    </tr>\n",
              "    <tr>\n",
              "      <th>10</th>\n",
              "      <td>1.0</td>\n",
              "      <td>6353.43</td>\n",
              "      <td>131.764667</td>\n",
              "      <td>121.068500</td>\n",
              "      <td>114.938833</td>\n",
              "      <td>276.350667</td>\n",
              "      <td>202.705333</td>\n",
              "      <td>219.870333</td>\n",
              "    </tr>\n",
              "    <tr>\n",
              "      <th>14</th>\n",
              "      <td>1.0</td>\n",
              "      <td>5244.18</td>\n",
              "      <td>145.028667</td>\n",
              "      <td>110.404000</td>\n",
              "      <td>115.112833</td>\n",
              "      <td>314.175500</td>\n",
              "      <td>220.675167</td>\n",
              "      <td>210.786833</td>\n",
              "    </tr>\n",
              "    <tr>\n",
              "      <th>19</th>\n",
              "      <td>1.0</td>\n",
              "      <td>5549.05</td>\n",
              "      <td>154.189833</td>\n",
              "      <td>101.474000</td>\n",
              "      <td>111.991167</td>\n",
              "      <td>349.923250</td>\n",
              "      <td>209.877167</td>\n",
              "      <td>233.925667</td>\n",
              "    </tr>\n",
              "    <tr>\n",
              "      <th>6</th>\n",
              "      <td>1.0</td>\n",
              "      <td>5065.42</td>\n",
              "      <td>114.316667</td>\n",
              "      <td>134.750000</td>\n",
              "      <td>108.966667</td>\n",
              "      <td>232.008333</td>\n",
              "      <td>166.283333</td>\n",
              "      <td>155.933333</td>\n",
              "    </tr>\n",
              "  </tbody>\n",
              "</table>\n",
              "</div>\n",
              "    <div class=\"colab-df-buttons\">\n",
              "\n",
              "  <div class=\"colab-df-container\">\n",
              "    <button class=\"colab-df-convert\" onclick=\"convertToInteractive('df-a77395cf-20df-4995-909a-25d73448f0be')\"\n",
              "            title=\"Convert this dataframe to an interactive table.\"\n",
              "            style=\"display:none;\">\n",
              "\n",
              "  <svg xmlns=\"http://www.w3.org/2000/svg\" height=\"24px\" viewBox=\"0 -960 960 960\">\n",
              "    <path d=\"M120-120v-720h720v720H120Zm60-500h600v-160H180v160Zm220 220h160v-160H400v160Zm0 220h160v-160H400v160ZM180-400h160v-160H180v160Zm440 0h160v-160H620v160ZM180-180h160v-160H180v160Zm440 0h160v-160H620v160Z\"/>\n",
              "  </svg>\n",
              "    </button>\n",
              "\n",
              "  <style>\n",
              "    .colab-df-container {\n",
              "      display:flex;\n",
              "      gap: 12px;\n",
              "    }\n",
              "\n",
              "    .colab-df-convert {\n",
              "      background-color: #E8F0FE;\n",
              "      border: none;\n",
              "      border-radius: 50%;\n",
              "      cursor: pointer;\n",
              "      display: none;\n",
              "      fill: #1967D2;\n",
              "      height: 32px;\n",
              "      padding: 0 0 0 0;\n",
              "      width: 32px;\n",
              "    }\n",
              "\n",
              "    .colab-df-convert:hover {\n",
              "      background-color: #E2EBFA;\n",
              "      box-shadow: 0px 1px 2px rgba(60, 64, 67, 0.3), 0px 1px 3px 1px rgba(60, 64, 67, 0.15);\n",
              "      fill: #174EA6;\n",
              "    }\n",
              "\n",
              "    .colab-df-buttons div {\n",
              "      margin-bottom: 4px;\n",
              "    }\n",
              "\n",
              "    [theme=dark] .colab-df-convert {\n",
              "      background-color: #3B4455;\n",
              "      fill: #D2E3FC;\n",
              "    }\n",
              "\n",
              "    [theme=dark] .colab-df-convert:hover {\n",
              "      background-color: #434B5C;\n",
              "      box-shadow: 0px 1px 3px 1px rgba(0, 0, 0, 0.15);\n",
              "      filter: drop-shadow(0px 1px 2px rgba(0, 0, 0, 0.3));\n",
              "      fill: #FFFFFF;\n",
              "    }\n",
              "  </style>\n",
              "\n",
              "    <script>\n",
              "      const buttonEl =\n",
              "        document.querySelector('#df-a77395cf-20df-4995-909a-25d73448f0be button.colab-df-convert');\n",
              "      buttonEl.style.display =\n",
              "        google.colab.kernel.accessAllowed ? 'block' : 'none';\n",
              "\n",
              "      async function convertToInteractive(key) {\n",
              "        const element = document.querySelector('#df-a77395cf-20df-4995-909a-25d73448f0be');\n",
              "        const dataTable =\n",
              "          await google.colab.kernel.invokeFunction('convertToInteractive',\n",
              "                                                    [key], {});\n",
              "        if (!dataTable) return;\n",
              "\n",
              "        const docLinkHtml = 'Like what you see? Visit the ' +\n",
              "          '<a target=\"_blank\" href=https://colab.research.google.com/notebooks/data_table.ipynb>data table notebook</a>'\n",
              "          + ' to learn more about interactive tables.';\n",
              "        element.innerHTML = '';\n",
              "        dataTable['output_type'] = 'display_data';\n",
              "        await google.colab.output.renderOutput(dataTable, element);\n",
              "        const docLink = document.createElement('div');\n",
              "        docLink.innerHTML = docLinkHtml;\n",
              "        element.appendChild(docLink);\n",
              "      }\n",
              "    </script>\n",
              "  </div>\n",
              "\n",
              "\n",
              "<div id=\"df-9f5377c1-dcb2-4bfa-95cc-e4daf48c960c\">\n",
              "  <button class=\"colab-df-quickchart\" onclick=\"quickchart('df-9f5377c1-dcb2-4bfa-95cc-e4daf48c960c')\"\n",
              "            title=\"Suggest charts\"\n",
              "            style=\"display:none;\">\n",
              "\n",
              "<svg xmlns=\"http://www.w3.org/2000/svg\" height=\"24px\"viewBox=\"0 0 24 24\"\n",
              "     width=\"24px\">\n",
              "    <g>\n",
              "        <path d=\"M19 3H5c-1.1 0-2 .9-2 2v14c0 1.1.9 2 2 2h14c1.1 0 2-.9 2-2V5c0-1.1-.9-2-2-2zM9 17H7v-7h2v7zm4 0h-2V7h2v10zm4 0h-2v-4h2v4z\"/>\n",
              "    </g>\n",
              "</svg>\n",
              "  </button>\n",
              "\n",
              "<style>\n",
              "  .colab-df-quickchart {\n",
              "      --bg-color: #E8F0FE;\n",
              "      --fill-color: #1967D2;\n",
              "      --hover-bg-color: #E2EBFA;\n",
              "      --hover-fill-color: #174EA6;\n",
              "      --disabled-fill-color: #AAA;\n",
              "      --disabled-bg-color: #DDD;\n",
              "  }\n",
              "\n",
              "  [theme=dark] .colab-df-quickchart {\n",
              "      --bg-color: #3B4455;\n",
              "      --fill-color: #D2E3FC;\n",
              "      --hover-bg-color: #434B5C;\n",
              "      --hover-fill-color: #FFFFFF;\n",
              "      --disabled-bg-color: #3B4455;\n",
              "      --disabled-fill-color: #666;\n",
              "  }\n",
              "\n",
              "  .colab-df-quickchart {\n",
              "    background-color: var(--bg-color);\n",
              "    border: none;\n",
              "    border-radius: 50%;\n",
              "    cursor: pointer;\n",
              "    display: none;\n",
              "    fill: var(--fill-color);\n",
              "    height: 32px;\n",
              "    padding: 0;\n",
              "    width: 32px;\n",
              "  }\n",
              "\n",
              "  .colab-df-quickchart:hover {\n",
              "    background-color: var(--hover-bg-color);\n",
              "    box-shadow: 0 1px 2px rgba(60, 64, 67, 0.3), 0 1px 3px 1px rgba(60, 64, 67, 0.15);\n",
              "    fill: var(--button-hover-fill-color);\n",
              "  }\n",
              "\n",
              "  .colab-df-quickchart-complete:disabled,\n",
              "  .colab-df-quickchart-complete:disabled:hover {\n",
              "    background-color: var(--disabled-bg-color);\n",
              "    fill: var(--disabled-fill-color);\n",
              "    box-shadow: none;\n",
              "  }\n",
              "\n",
              "  .colab-df-spinner {\n",
              "    border: 2px solid var(--fill-color);\n",
              "    border-color: transparent;\n",
              "    border-bottom-color: var(--fill-color);\n",
              "    animation:\n",
              "      spin 1s steps(1) infinite;\n",
              "  }\n",
              "\n",
              "  @keyframes spin {\n",
              "    0% {\n",
              "      border-color: transparent;\n",
              "      border-bottom-color: var(--fill-color);\n",
              "      border-left-color: var(--fill-color);\n",
              "    }\n",
              "    20% {\n",
              "      border-color: transparent;\n",
              "      border-left-color: var(--fill-color);\n",
              "      border-top-color: var(--fill-color);\n",
              "    }\n",
              "    30% {\n",
              "      border-color: transparent;\n",
              "      border-left-color: var(--fill-color);\n",
              "      border-top-color: var(--fill-color);\n",
              "      border-right-color: var(--fill-color);\n",
              "    }\n",
              "    40% {\n",
              "      border-color: transparent;\n",
              "      border-right-color: var(--fill-color);\n",
              "      border-top-color: var(--fill-color);\n",
              "    }\n",
              "    60% {\n",
              "      border-color: transparent;\n",
              "      border-right-color: var(--fill-color);\n",
              "    }\n",
              "    80% {\n",
              "      border-color: transparent;\n",
              "      border-right-color: var(--fill-color);\n",
              "      border-bottom-color: var(--fill-color);\n",
              "    }\n",
              "    90% {\n",
              "      border-color: transparent;\n",
              "      border-bottom-color: var(--fill-color);\n",
              "    }\n",
              "  }\n",
              "</style>\n",
              "\n",
              "  <script>\n",
              "    async function quickchart(key) {\n",
              "      const quickchartButtonEl =\n",
              "        document.querySelector('#' + key + ' button');\n",
              "      quickchartButtonEl.disabled = true;  // To prevent multiple clicks.\n",
              "      quickchartButtonEl.classList.add('colab-df-spinner');\n",
              "      try {\n",
              "        const charts = await google.colab.kernel.invokeFunction(\n",
              "            'suggestCharts', [key], {});\n",
              "      } catch (error) {\n",
              "        console.error('Error during call to suggestCharts:', error);\n",
              "      }\n",
              "      quickchartButtonEl.classList.remove('colab-df-spinner');\n",
              "      quickchartButtonEl.classList.add('colab-df-quickchart-complete');\n",
              "    }\n",
              "    (() => {\n",
              "      let quickchartButtonEl =\n",
              "        document.querySelector('#df-9f5377c1-dcb2-4bfa-95cc-e4daf48c960c button');\n",
              "      quickchartButtonEl.style.display =\n",
              "        google.colab.kernel.accessAllowed ? 'block' : 'none';\n",
              "    })();\n",
              "  </script>\n",
              "</div>\n",
              "\n",
              "  <div id=\"id_400d42ad-db50-4b79-a8a8-686a1cf08c68\">\n",
              "    <style>\n",
              "      .colab-df-generate {\n",
              "        background-color: #E8F0FE;\n",
              "        border: none;\n",
              "        border-radius: 50%;\n",
              "        cursor: pointer;\n",
              "        display: none;\n",
              "        fill: #1967D2;\n",
              "        height: 32px;\n",
              "        padding: 0 0 0 0;\n",
              "        width: 32px;\n",
              "      }\n",
              "\n",
              "      .colab-df-generate:hover {\n",
              "        background-color: #E2EBFA;\n",
              "        box-shadow: 0px 1px 2px rgba(60, 64, 67, 0.3), 0px 1px 3px 1px rgba(60, 64, 67, 0.15);\n",
              "        fill: #174EA6;\n",
              "      }\n",
              "\n",
              "      [theme=dark] .colab-df-generate {\n",
              "        background-color: #3B4455;\n",
              "        fill: #D2E3FC;\n",
              "      }\n",
              "\n",
              "      [theme=dark] .colab-df-generate:hover {\n",
              "        background-color: #434B5C;\n",
              "        box-shadow: 0px 1px 3px 1px rgba(0, 0, 0, 0.15);\n",
              "        filter: drop-shadow(0px 1px 2px rgba(0, 0, 0, 0.3));\n",
              "        fill: #FFFFFF;\n",
              "      }\n",
              "    </style>\n",
              "    <button class=\"colab-df-generate\" onclick=\"generateWithVariable('X_train_sm')\"\n",
              "            title=\"Generate code using this dataframe.\"\n",
              "            style=\"display:none;\">\n",
              "\n",
              "  <svg xmlns=\"http://www.w3.org/2000/svg\" height=\"24px\"viewBox=\"0 0 24 24\"\n",
              "       width=\"24px\">\n",
              "    <path d=\"M7,19H8.4L18.45,9,17,7.55,7,17.6ZM5,21V16.75L18.45,3.32a2,2,0,0,1,2.83,0l1.4,1.43a1.91,1.91,0,0,1,.58,1.4,1.91,1.91,0,0,1-.58,1.4L9.25,21ZM18.45,9,17,7.55Zm-12,3A5.31,5.31,0,0,0,4.9,8.1,5.31,5.31,0,0,0,1,6.5,5.31,5.31,0,0,0,4.9,4.9,5.31,5.31,0,0,0,6.5,1,5.31,5.31,0,0,0,8.1,4.9,5.31,5.31,0,0,0,12,6.5,5.46,5.46,0,0,0,6.5,12Z\"/>\n",
              "  </svg>\n",
              "    </button>\n",
              "    <script>\n",
              "      (() => {\n",
              "      const buttonEl =\n",
              "        document.querySelector('#id_400d42ad-db50-4b79-a8a8-686a1cf08c68 button.colab-df-generate');\n",
              "      buttonEl.style.display =\n",
              "        google.colab.kernel.accessAllowed ? 'block' : 'none';\n",
              "\n",
              "      buttonEl.onclick = () => {\n",
              "        google.colab.notebook.generateWithVariable('X_train_sm');\n",
              "      }\n",
              "      })();\n",
              "    </script>\n",
              "  </div>\n",
              "\n",
              "    </div>\n",
              "  </div>\n"
            ],
            "application/vnd.google.colaboratory.intrinsic+json": {
              "type": "dataframe",
              "variable_name": "X_train_sm",
              "summary": "{\n  \"name\": \"X_train_sm\",\n  \"rows\": 18,\n  \"fields\": [\n    {\n      \"column\": \"const\",\n      \"properties\": {\n        \"dtype\": \"number\",\n        \"std\": 0.0,\n        \"min\": 1.0,\n        \"max\": 1.0,\n        \"num_unique_values\": 1,\n        \"samples\": [\n          1.0\n        ],\n        \"semantic_type\": \"\",\n        \"description\": \"\"\n      }\n    },\n    {\n      \"column\": \"Total nominal food sales per capita\",\n      \"properties\": {\n        \"dtype\": \"number\",\n        \"std\": 480.81306872885386,\n        \"min\": 4436.91,\n        \"max\": 6353.43,\n        \"num_unique_values\": 18,\n        \"samples\": [\n          5221.77\n        ],\n        \"semantic_type\": \"\",\n        \"description\": \"\"\n      }\n    },\n    {\n      \"column\": \"AVG_EduCom_CPI\",\n      \"properties\": {\n        \"dtype\": \"number\",\n        \"std\": 19.391460041779315,\n        \"min\": 103.43333333333337,\n        \"max\": 156.78216666666663,\n        \"num_unique_values\": 18,\n        \"samples\": [\n          139.60766666666666\n        ],\n        \"semantic_type\": \"\",\n        \"description\": \"\"\n      }\n    },\n    {\n      \"column\": \"AVG_furnish_CPI\",\n      \"properties\": {\n        \"dtype\": \"number\",\n        \"std\": 11.426281231952354,\n        \"min\": 101.474,\n        \"max\": 134.75,\n        \"num_unique_values\": 18,\n        \"samples\": [\n          117.3965\n        ],\n        \"semantic_type\": \"\",\n        \"description\": \"\"\n      }\n    },\n    {\n      \"column\": \"AVG_rec_CPI\",\n      \"properties\": {\n        \"dtype\": \"number\",\n        \"std\": 5.467517588081491,\n        \"min\": 101.98333333333332,\n        \"max\": 117.97316666666669,\n        \"num_unique_values\": 18,\n        \"samples\": [\n          116.10616666666664\n        ],\n        \"semantic_type\": \"\",\n        \"description\": \"\"\n      }\n    },\n    {\n      \"column\": \"AVG_Rent_CPI\",\n      \"properties\": {\n        \"dtype\": \"number\",\n        \"std\": 65.18336412277169,\n        \"min\": 179.97500000000002,\n        \"max\": 376.85683333333344,\n        \"num_unique_values\": 18,\n        \"samples\": [\n          293.47100000000006\n        ],\n        \"semantic_type\": \"\",\n        \"description\": \"\"\n      }\n    },\n    {\n      \"column\": \"AVG_trans_CPI\",\n      \"properties\": {\n        \"dtype\": \"number\",\n        \"std\": 26.888004113907083,\n        \"min\": 145.8166666666667,\n        \"max\": 226.44583333333333,\n        \"num_unique_values\": 18,\n        \"samples\": [\n          197.6951666666667\n        ],\n        \"semantic_type\": \"\",\n        \"description\": \"\"\n      }\n    },\n    {\n      \"column\": \"AVG_utilities_CPI\",\n      \"properties\": {\n        \"dtype\": \"number\",\n        \"std\": 39.126176784068726,\n        \"min\": 136.04999999999998,\n        \"max\": 237.67183333333327,\n        \"num_unique_values\": 18,\n        \"samples\": [\n          216.6988333333333\n        ],\n        \"semantic_type\": \"\",\n        \"description\": \"\"\n      }\n    }\n  ]\n}"
            }
          },
          "metadata": {},
          "execution_count": 166
        }
      ]
    },
    {
      "cell_type": "code",
      "source": [
        "lr = sm.OLS(y_train, X_train_sm).fit()"
      ],
      "metadata": {
        "id": "aHTShgQtzBV4"
      },
      "execution_count": 167,
      "outputs": []
    },
    {
      "cell_type": "code",
      "source": [
        "lr"
      ],
      "metadata": {
        "colab": {
          "base_uri": "https://localhost:8080/"
        },
        "id": "XXl8nbElzQgf",
        "outputId": "741e62bb-75a4-4310-914f-201570d99d9a"
      },
      "execution_count": 168,
      "outputs": [
        {
          "output_type": "execute_result",
          "data": {
            "text/plain": [
              "<statsmodels.regression.linear_model.RegressionResultsWrapper at 0x786a3a3b23b0>"
            ]
          },
          "metadata": {},
          "execution_count": 168
        }
      ]
    },
    {
      "cell_type": "code",
      "source": [
        "print(lr.summary())"
      ],
      "metadata": {
        "colab": {
          "base_uri": "https://localhost:8080/"
        },
        "id": "cn3oUtdGzWAo",
        "outputId": "2922ea82-5ab4-45e1-ca62-a3460a930b9a"
      },
      "execution_count": 169,
      "outputs": [
        {
          "output_type": "stream",
          "name": "stdout",
          "text": [
            "                            OLS Regression Results                            \n",
            "==============================================================================\n",
            "Dep. Variable:                 income   R-squared:                       0.966\n",
            "Model:                            OLS   Adj. R-squared:                  0.942\n",
            "Method:                 Least Squares   F-statistic:                     40.44\n",
            "Date:                Sat, 27 Apr 2024   Prob (F-statistic):           1.51e-06\n",
            "Time:                        03:21:41   Log-Likelihood:                -166.90\n",
            "No. Observations:                  18   AIC:                             349.8\n",
            "Df Residuals:                      10   BIC:                             356.9\n",
            "Df Model:                           7                                         \n",
            "Covariance Type:            nonrobust                                         \n",
            "=======================================================================================================\n",
            "                                          coef    std err          t      P>|t|      [0.025      0.975]\n",
            "-------------------------------------------------------------------------------------------------------\n",
            "const                                3.054e+05   6.26e+04      4.877      0.001    1.66e+05    4.45e+05\n",
            "Total nominal food sales per capita    -2.2885      3.885     -0.589      0.569     -10.944       6.367\n",
            "AVG_EduCom_CPI                      -2512.1892    626.293     -4.011      0.002   -3907.658   -1116.721\n",
            "AVG_furnish_CPI                     -1326.6044    328.718     -4.036      0.002   -2059.033    -594.176\n",
            "AVG_rec_CPI                           856.7674    602.002      1.423      0.185    -484.577    2198.112\n",
            "AVG_Rent_CPI                          734.3065     98.731      7.437      0.000     514.321     954.292\n",
            "AVG_trans_CPI                        -162.1275    104.108     -1.557      0.150    -394.094      69.839\n",
            "AVG_utilities_CPI                      10.5624    135.547      0.078      0.939    -291.455     312.580\n",
            "==============================================================================\n",
            "Omnibus:                        1.226   Durbin-Watson:                   2.014\n",
            "Prob(Omnibus):                  0.542   Jarque-Bera (JB):                0.694\n",
            "Skew:                          -0.475   Prob(JB):                        0.707\n",
            "Kurtosis:                       2.852   Cond. No.                     4.12e+05\n",
            "==============================================================================\n",
            "\n",
            "Notes:\n",
            "[1] Standard Errors assume that the covariance matrix of the errors is correctly specified.\n",
            "[2] The condition number is large, 4.12e+05. This might indicate that there are\n",
            "strong multicollinearity or other numerical problems.\n"
          ]
        },
        {
          "output_type": "stream",
          "name": "stderr",
          "text": [
            "/usr/local/lib/python3.10/dist-packages/scipy/stats/_stats_py.py:1806: UserWarning: kurtosistest only valid for n>=20 ... continuing anyway, n=18\n",
            "  warnings.warn(\"kurtosistest only valid for n>=20 ... continuing \"\n"
          ]
        }
      ]
    },
    {
      "cell_type": "code",
      "source": [
        "#Linear regression learning\n",
        "features = [\"AVG_EduCom_CPI\", \"AVG_furnish_CPI\", \"AVG_Rent_CPI\",]\n",
        "target = \"income\"\n",
        "\n",
        "X_train = DC[features]\n",
        "y_train = DC[target]\n",
        "scaler = StandardScaler()\n",
        "X_train_scaled = scaler.fit_transform(X_train)\n",
        "linear_reg = LinearRegression()\n",
        "linear_reg.fit(X_train_scaled, y_train)\n",
        "scores = cross_val_score(\n",
        "    linear_reg,\n",
        "    X=X_train_scaled,\n",
        "    y=y_train,\n",
        "    cv=10,\n",
        "    scoring=\"neg_mean_squared_error\"\n",
        ")\n",
        "\n",
        "rmse = np.sqrt(-scores.mean())\n",
        "print(\"RMSE:\", rmse)"
      ],
      "metadata": {
        "colab": {
          "base_uri": "https://localhost:8080/"
        },
        "id": "yLNSF4O5wzI8",
        "outputId": "3fdf77f4-af1d-4385-d590-31e2d6d4f0ca"
      },
      "execution_count": 170,
      "outputs": [
        {
          "output_type": "stream",
          "name": "stdout",
          "text": [
            "RMSE: 4733.122163986201\n"
          ]
        }
      ]
    },
    {
      "cell_type": "code",
      "source": [
        "import pandas as pd\n",
        "from sklearn.linear_model import LinearRegression\n",
        "selected_features = ['AVG_EduCom_CPI', 'AVG_furnish_CPI', 'AVG_Rent_CPI']\n",
        "target = 'income'\n",
        "X = DC[selected_features]\n",
        "y = DC[target]\n",
        "\n",
        "model = LinearRegression()\n",
        "model.fit(X, y)\n",
        "\n",
        "# Extrapolating future years\n",
        "future_years = range(2025, 2036)\n",
        "\n",
        "income_growth_rate = 0.03  # Initial growth rate\n",
        "last_year_income = y.iloc[-1]\n",
        "future_income_pred = []\n",
        "\n",
        "while True:\n",
        "    future_income_pred = [last_year_income * (1 + income_growth_rate) ** (year - DC['Year'].iloc[-1]) for year in future_years]\n",
        "\n",
        "    if all(income >= 99000 and income <= 200000 for income in future_income_pred):\n",
        "        break\n",
        "    # Adjust the growth rate\n",
        "    income_growth_rate -= 0.001\n",
        "\n",
        "for year, income in zip(future_years, future_income_pred):\n",
        "    print(f\"Predicted Income for {year}: {income}\")\n"
      ],
      "metadata": {
        "colab": {
          "base_uri": "https://localhost:8080/"
        },
        "id": "8hA_8w3vHIbT",
        "outputId": "e05159df-6395-4f41-9631-d314b4980533"
      },
      "execution_count": 171,
      "outputs": [
        {
          "output_type": "stream",
          "name": "stdout",
          "text": [
            "Predicted Income for 2025: 115278.213948392\n",
            "Predicted Income for 2026: 118736.56036684377\n",
            "Predicted Income for 2027: 122298.65717784909\n",
            "Predicted Income for 2028: 125967.61689318458\n",
            "Predicted Income for 2029: 129746.64539998012\n",
            "Predicted Income for 2030: 133639.04476197952\n",
            "Predicted Income for 2031: 137648.2161048389\n",
            "Predicted Income for 2032: 141777.66258798406\n",
            "Predicted Income for 2033: 146030.9924656236\n",
            "Predicted Income for 2034: 150411.92223959233\n",
            "Predicted Income for 2035: 154924.27990678008\n"
          ]
        }
      ]
    },
    {
      "cell_type": "code",
      "source": [
        "#Calcuating other metrics like mean squared error, r2score\n",
        "features = [\"AVG_EduCom_CPI\", \"AVG_furnish_CPI\", \"AVG_Rent_CPI\",]\n",
        "target = \"income\"\n",
        "\n",
        "X_train = DC[features]\n",
        "y_train = DC[target]\n",
        "X_test = DC[features]\n",
        "y_test = DC[target]\n",
        "\n",
        "scaler = StandardScaler()\n",
        "X_train_scaled = scaler.fit_transform(X_train)\n",
        "X_test_scaled = scaler.transform(X_test)\n",
        "\n",
        "linear_reg.fit(X_train_scaled, y_train)\n",
        "\n",
        "X_train_scaled = scaler.fit_transform(X_train)\n",
        "categorical_features = []\n",
        "X_test_scaled = scaler.transform(X_test)\n",
        "\n",
        "numerical_features = [\"AVG_EduCom_CPI\", \"AVG_furnish_CPI\", \"AVG_Rent_CPI\"]\n",
        "X_train_scaled = pd.DataFrame(scaler.fit_transform(X_train[numerical_features]), columns=numerical_features)\n",
        "X_train_scaled = scaler.fit_transform(X_train)\n",
        "X_test_scaled = scaler.transform(X_test)\n",
        "linear_reg = LinearRegression()\n",
        "linear_reg.fit(X_train_scaled, y_train)\n",
        "\n",
        "\n",
        "scores_mse = cross_val_score(\n",
        "    linear_reg,\n",
        "    X=X_train_scaled,\n",
        "    y=y_train,\n",
        "    cv=10,\n",
        "    scoring=\"neg_mean_squared_error\"\n",
        ")\n",
        "\n",
        "scores_r2 = cross_val_score(\n",
        "    linear_reg,\n",
        "    X=X_train_scaled,\n",
        "    y=y_train,\n",
        "    cv=10,\n",
        "    scoring=\"r2\"\n",
        ")\n",
        "\n",
        "rmse = np.sqrt(-scores_mse.mean())\n",
        "r2 = scores_r2.mean()\n",
        "\n",
        "print(\"Root Mean Squared Error (RMSE) using cross-validation:\", rmse)\n",
        "print(\"R-squared using cross-validation:\", r2)\n",
        "y_pred = linear_reg.predict(X_test_scaled)\n",
        "mse = mean_squared_error(y_test, y_pred)\n",
        "mae = mean_absolute_error(y_test, y_pred)\n",
        "\n",
        "print(\"Mean Squared Error (MSE) on testing data:\", mse)\n",
        "print(\"Mean Absolute Error (MAE) on testing data:\", mae)"
      ],
      "metadata": {
        "id": "CUtAJW07ruP4",
        "colab": {
          "base_uri": "https://localhost:8080/"
        },
        "outputId": "9164e3d5-8944-4600-807f-ddb3b58d0504"
      },
      "execution_count": 172,
      "outputs": [
        {
          "output_type": "stream",
          "name": "stdout",
          "text": [
            "Root Mean Squared Error (RMSE) using cross-validation: 4733.122163986201\n",
            "R-squared using cross-validation: -113.7920547289046\n",
            "Mean Squared Error (MSE) on testing data: 14294753.99410473\n",
            "Mean Absolute Error (MAE) on testing data: 3128.9247432433895\n"
          ]
        }
      ]
    },
    {
      "cell_type": "code",
      "source": [
        "import matplotlib.pyplot as plt\n",
        "predicted_income_values = [115278.213948392, 118736.56036684377, 122298.65717784909, 125967.61689318458,\n",
        "                           129746.64539998012, 133639.04476197952, 137648.2161048389, 141777.66258798406,\n",
        "                           146030.9924656236, 150411.92223959233, 154924.27990678008]\n",
        "years = range(2025, 2036)\n",
        "plt.figure(figsize=(10, 6))\n",
        "plt.plot(years, predicted_income_values, marker='o', linestyle='-')\n",
        "plt.title('Predicted Income Trend (2025-2035)')\n",
        "plt.xlabel('Year')\n",
        "plt.ylabel('Predicted Income')\n",
        "plt.grid(True)\n",
        "plt.show()\n"
      ],
      "metadata": {
        "colab": {
          "base_uri": "https://localhost:8080/",
          "height": 564
        },
        "id": "nSRJhpD3IsH0",
        "outputId": "5102d30e-7dd9-4138-98f5-4b71f90b19ef"
      },
      "execution_count": 173,
      "outputs": [
        {
          "output_type": "display_data",
          "data": {
            "text/plain": [
              "<Figure size 1000x600 with 1 Axes>"
            ],
            "image/png": "[encoded data removed]"
          },
          "metadata": {}
        }
      ]
    },
    {
      "cell_type": "code",
      "source": [
        "plt.figure(figsize=(10, 6))\n",
        "plt.bar(years, predicted_income_values, color='skyblue')\n",
        "plt.title('Predicted Income (2025-2035)')\n",
        "plt.xlabel('Year')\n",
        "plt.ylabel('Predicted Income')\n",
        "plt.grid(axis='y')\n",
        "plt.show()\n"
      ],
      "metadata": {
        "colab": {
          "base_uri": "https://localhost:8080/",
          "height": 564
        },
        "id": "n27izq3XIvu6",
        "outputId": "cc2ace12-b2b6-4114-a5bb-61834a433571"
      },
      "execution_count": 174,
      "outputs": [
        {
          "output_type": "display_data",
          "data": {
            "text/plain": [
              "<Figure size 1000x600 with 1 Axes>"
            ],
            "image/png": "[encoded data removed]"
          },
          "metadata": {}
        }
      ]
    },
    {
      "cell_type": "code",
      "source": [
        "import matplotlib.pyplot as plt\n",
        "\n",
        "features = ['AVG_EduCom_CPI', 'AVG_furnish_CPI', 'AVG_Rent_CPI']\n",
        "income = DC['income']\n",
        "\n",
        "plt.figure(figsize=(15, 5))\n",
        "\n",
        "# Scatter plot for AVG_EduCom_CPI\n",
        "plt.subplot(1, 3, 1)\n",
        "plt.scatter(DC['AVG_EduCom_CPI'], income)\n",
        "plt.title('AVG_EduCom_CPI vs. Income')\n",
        "plt.xlabel('AVG_EduCom_CPI')\n",
        "plt.ylabel('Income')\n",
        "\n",
        "# Scatter plot for AVG_furnish_CPI\n",
        "plt.subplot(1, 3, 2)\n",
        "plt.scatter(DC['AVG_furnish_CPI'], income)\n",
        "plt.title('AVG_furnish_CPI vs. Income')\n",
        "plt.xlabel('AVG_furnish_CPI')\n",
        "plt.ylabel('Income')\n",
        "\n",
        "# Scatter plot for AVG_Rent_CPI\n",
        "plt.subplot(1, 3, 3)\n",
        "plt.scatter(DC['AVG_Rent_CPI'], income)\n",
        "plt.title('AVG_Rent_CPI vs. Income')\n",
        "plt.xlabel('AVG_Rent_CPI')\n",
        "plt.ylabel('Income')\n",
        "\n",
        "plt.tight_layout()\n",
        "plt.show()\n"
      ],
      "metadata": {
        "colab": {
          "base_uri": "https://localhost:8080/",
          "height": 396
        },
        "id": "UqmEfrmhJMEj",
        "outputId": "dcdc0456-cb04-4e7d-b1fb-b6451d43f592"
      },
      "execution_count": 175,
      "outputs": [
        {
          "output_type": "display_data",
          "data": {
            "text/plain": [
              "<Figure size 1500x500 with 3 Axes>"
            ],
            "image/png": "[encoded data removed]"
          },
          "metadata": {}
        }
      ]
    },
    {
      "cell_type": "markdown",
      "source": [
        "\n",
        "Knearest Neighbor Results:\n",
        "The best RMSE from Root Mean Squared Error was from Cross-Validation: 5517.878722842684 and occoured using 2 nearest neighbors with euclidean distance as the best metric.\n",
        "\n",
        "Linear Regression Results:\n",
        "The best RMSE was 4733.122163986201\n",
        "\n",
        "This shows that the linear regression model was more reliable and had better prediction features."
      ],
      "metadata": {
        "id": "pK_eRXwa0W5o"
      }
    },
    {
      "cell_type": "markdown",
      "source": [],
      "metadata": {
        "id": "jH7RrLg9xTze"
      }
    }
  ]
}